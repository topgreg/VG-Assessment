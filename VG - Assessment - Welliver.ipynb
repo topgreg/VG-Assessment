{
 "cells": [
  {
   "cell_type": "markdown",
   "id": "a4102f31",
   "metadata": {},
   "source": [
    "# VG - Assessment - Welliver\n",
    "\n",
    "Greg Welliver   "
   ]
  },
  {
   "cell_type": "code",
   "execution_count": 105,
   "id": "ba529c28",
   "metadata": {},
   "outputs": [],
   "source": [
    "# Import relevant libraries and packages.\n",
    "import numpy as np \n",
    "import pandas as pd \n",
    "import matplotlib.pyplot as plt\n",
    "from matplotlib import rc\n",
    "import matplotlib.ticker as plticker\n",
    "import seaborn as sns\n",
    "sns.set()\n",
    "from sklearn.metrics import mean_squared_error, r2_score\n",
    "from sklearn.model_selection import train_test_split\n",
    "from sklearn import linear_model, preprocessing \n",
    "import warnings\n",
    "from scipy import stats\n",
    "import matplotlib as mpl\n",
    "import matplotlib.cm as cm\n",
    "from matplotlib.colors import ListedColormap\n",
    "import lightgbm as lgb\n",
    "from lightgbm import LGBMRegressor, LGBMClassifier\n",
    "from numpy import mean\n",
    "from numpy import std\n",
    "from functools import partial\n",
    "%matplotlib inline\n",
    "from sklearn.linear_model import GammaRegressor\n",
    "from sklearn.linear_model import TweedieRegressor\n",
    "import plotly.express as px\n",
    "\n",
    "\n",
    "import statsmodels.api as sm\n",
    "from statsmodels.graphics.api import abline_plot\n",
    "from scipy import stats\n",
    "\n",
    "from sklearn.datasets import fetch_openml\n",
    "from sklearn import linear_model, preprocessing, tree, svm, datasets, metrics\n",
    "from sklearn.metrics import accuracy_score, classification_report, confusion_matrix, roc_curve, roc_auc_score, auc, mean_squared_error, mean_absolute_error, mean_absolute_percentage_error, r2_score, f1_score, log_loss\n",
    "from sklearn.metrics import ConfusionMatrixDisplay\n",
    "from sklearn.metrics import precision_recall_fscore_support as score\n",
    "from sklearn.metrics import classification_report\n",
    "from sklearn.metrics import confusion_matrix\n",
    "from sklearn.metrics import precision_recall_curve\n",
    "\n",
    "from sklearn.ensemble import RandomForestClassifier\n",
    "from sklearn.ensemble import RandomForestRegressor\n",
    "from sklearn.ensemble import GradientBoostingClassifier\n",
    "from sklearn.ensemble import VotingClassifier\n",
    "from sklearn.ensemble import ExtraTreesRegressor\n",
    "from sklearn.linear_model import LogisticRegression\n",
    "from sklearn.naive_bayes import GaussianNB\n",
    "from sklearn.tree import DecisionTreeClassifier\n",
    "from sklearn.tree import export_graphviz\n",
    "from sklearn.metrics import f1_score\n",
    "\n",
    "\n",
    "from sklearn.svm import SVC\n",
    "from sklearn.neighbors import KNeighborsClassifier\n",
    "from sklearn.preprocessing import OneHotEncoder as OHE\n",
    "import sklearn.model_selection\n",
    "from sklearn.model_selection import train_test_split\n",
    "from sklearn.model_selection import KFold\n",
    "from sklearn.model_selection import GridSearchCV, RandomizedSearchCV\n",
    "from sklearn.experimental import enable_iterative_imputer\n",
    "from sklearn.impute import IterativeImputer\n",
    "from sklearn.model_selection import cross_val_score\n",
    "from sklearn.model_selection import RepeatedKFold\n",
    "from sklearn.metrics import mean_tweedie_deviance, make_scorer\n",
    "\n",
    "\n",
    "import xgboost\n",
    "from xgboost import XGBClassifier\n",
    "from xgboost import XGBRegressor\n",
    "import warnings\n",
    "from subprocess import call\n",
    "from IPython.display import Image\n",
    "from datetime import datetime, timedelta, date\n",
    "import os\n",
    "import plotly.graph_objects as go\n",
    "import itertools\n",
    "from io import StringIO  \n",
    "import pydotplus\n",
    "\n",
    "# Seaborn settings\n",
    "sns.set_context('notebook')\n",
    "#sns.set_style(\"whitegrid\")\n",
    "#sns.set_style(\"white\")\n",
    "style_set = sns.set_style('whitegrid')\n",
    "pd.options.display.float_format = '{:,}'.format\n",
    "color_choice1 = 'plum'\n",
    "color_choice2 = 'lightblue'\n",
    "color_choice3 = 'lightgreen'\n",
    "color_choice4 = 'blue'\n",
    "#ax.yaxis.set_major_formatter('{x:,.0f}')\n",
    "#sns.set_context('notebook', font_scale = 4)\n",
    "\n",
    "#from mpl_toolkits.basemap import Basemap\n",
    "import geopandas as gpd\n",
    "from shapely.geometry import Point, Polygon\n",
    "import contextily as ctx\n",
    "\n",
    "from sklearn.feature_extraction.text import CountVectorizer\n",
    "from ydata_profiling import ProfileReport\n",
    "from pandas.plotting import scatter_matrix"
   ]
  },
  {
   "cell_type": "markdown",
   "id": "fbf95157",
   "metadata": {},
   "source": [
    "## Load the data\n",
    "\n"
   ]
  },
  {
   "cell_type": "code",
   "execution_count": 2,
   "id": "892bc82a",
   "metadata": {},
   "outputs": [],
   "source": [
    "# load the data\n",
    "dfe = pd.read_csv(\"email.csv\")\n",
    "dfd = pd.read_csv(\"demos.csv\")\n",
    "\n",
    "# X = pd.concat([X_train, X_test])\n",
    "# y = pd.concat([y_train, y_test])\n",
    "\n",
    "# eval_set = [(X_train, y_train), (X_test, y_test)]\n",
    "\n",
    "#df = pd.read_parquet(\"../Data/all_storm_data11.pqt\")"
   ]
  },
  {
   "cell_type": "markdown",
   "id": "b2060715",
   "metadata": {},
   "source": [
    "First I'll look at the email dataset"
   ]
  },
  {
   "cell_type": "code",
   "execution_count": 3,
   "id": "3dac591e",
   "metadata": {},
   "outputs": [
    {
     "data": {
      "text/plain": [
       "(41767, 4)"
      ]
     },
     "execution_count": 3,
     "metadata": {},
     "output_type": "execute_result"
    }
   ],
   "source": [
    "# check shape\n",
    "dfe.shape"
   ]
  },
  {
   "cell_type": "code",
   "execution_count": 4,
   "id": "6560695b",
   "metadata": {},
   "outputs": [
    {
     "data": {
      "text/plain": [
       "part_id      41767\n",
       "click_dt       365\n",
       "bounce_dt        9\n",
       "open_dt        372\n",
       "dtype: int64"
      ]
     },
     "execution_count": 4,
     "metadata": {},
     "output_type": "execute_result"
    }
   ],
   "source": [
    "# ensure that aren't duplicate IDs\n",
    "dfe.nunique()"
   ]
  },
  {
   "cell_type": "code",
   "execution_count": 5,
   "id": "fc374348",
   "metadata": {},
   "outputs": [
    {
     "data": {
      "text/html": [
       "<div>\n",
       "<style scoped>\n",
       "    .dataframe tbody tr th:only-of-type {\n",
       "        vertical-align: middle;\n",
       "    }\n",
       "\n",
       "    .dataframe tbody tr th {\n",
       "        vertical-align: top;\n",
       "    }\n",
       "\n",
       "    .dataframe thead th {\n",
       "        text-align: right;\n",
       "    }\n",
       "</style>\n",
       "<table border=\"1\" class=\"dataframe\">\n",
       "  <thead>\n",
       "    <tr style=\"text-align: right;\">\n",
       "      <th></th>\n",
       "      <th>part_id</th>\n",
       "      <th>click_dt</th>\n",
       "      <th>bounce_dt</th>\n",
       "      <th>open_dt</th>\n",
       "    </tr>\n",
       "  </thead>\n",
       "  <tbody>\n",
       "    <tr>\n",
       "      <th>0</th>\n",
       "      <td>1054161513</td>\n",
       "      <td>NaN</td>\n",
       "      <td>NaN</td>\n",
       "      <td>NaN</td>\n",
       "    </tr>\n",
       "    <tr>\n",
       "      <th>1</th>\n",
       "      <td>5761909860</td>\n",
       "      <td>NaN</td>\n",
       "      <td>NaN</td>\n",
       "      <td>NaN</td>\n",
       "    </tr>\n",
       "    <tr>\n",
       "      <th>2</th>\n",
       "      <td>9130086586</td>\n",
       "      <td>NaN</td>\n",
       "      <td>NaN</td>\n",
       "      <td>NaN</td>\n",
       "    </tr>\n",
       "    <tr>\n",
       "      <th>3</th>\n",
       "      <td>5496433327</td>\n",
       "      <td>NaN</td>\n",
       "      <td>NaN</td>\n",
       "      <td>NaN</td>\n",
       "    </tr>\n",
       "    <tr>\n",
       "      <th>4</th>\n",
       "      <td>8917877079</td>\n",
       "      <td>NaN</td>\n",
       "      <td>NaN</td>\n",
       "      <td>12/14/2020 0:00</td>\n",
       "    </tr>\n",
       "    <tr>\n",
       "      <th>5</th>\n",
       "      <td>2290016446</td>\n",
       "      <td>NaN</td>\n",
       "      <td>NaN</td>\n",
       "      <td>NaN</td>\n",
       "    </tr>\n",
       "    <tr>\n",
       "      <th>6</th>\n",
       "      <td>2057483407</td>\n",
       "      <td>1/10/2021 0:00</td>\n",
       "      <td>NaN</td>\n",
       "      <td>12/16/2020 0:00</td>\n",
       "    </tr>\n",
       "    <tr>\n",
       "      <th>7</th>\n",
       "      <td>2589661237</td>\n",
       "      <td>NaN</td>\n",
       "      <td>NaN</td>\n",
       "      <td>NaN</td>\n",
       "    </tr>\n",
       "    <tr>\n",
       "      <th>8</th>\n",
       "      <td>7772898223</td>\n",
       "      <td>NaN</td>\n",
       "      <td>NaN</td>\n",
       "      <td>NaN</td>\n",
       "    </tr>\n",
       "    <tr>\n",
       "      <th>9</th>\n",
       "      <td>6396357382</td>\n",
       "      <td>NaN</td>\n",
       "      <td>NaN</td>\n",
       "      <td>NaN</td>\n",
       "    </tr>\n",
       "  </tbody>\n",
       "</table>\n",
       "</div>"
      ],
      "text/plain": [
       "      part_id        click_dt bounce_dt          open_dt\n",
       "0  1054161513             NaN       NaN              NaN\n",
       "1  5761909860             NaN       NaN              NaN\n",
       "2  9130086586             NaN       NaN              NaN\n",
       "3  5496433327             NaN       NaN              NaN\n",
       "4  8917877079             NaN       NaN  12/14/2020 0:00\n",
       "5  2290016446             NaN       NaN              NaN\n",
       "6  2057483407  1/10/2021 0:00       NaN  12/16/2020 0:00\n",
       "7  2589661237             NaN       NaN              NaN\n",
       "8  7772898223             NaN       NaN              NaN\n",
       "9  6396357382             NaN       NaN              NaN"
      ]
     },
     "execution_count": 5,
     "metadata": {},
     "output_type": "execute_result"
    }
   ],
   "source": [
    "dfe.head(10)"
   ]
  },
  {
   "cell_type": "code",
   "execution_count": 6,
   "id": "0d7279c8",
   "metadata": {},
   "outputs": [
    {
     "data": {
      "text/plain": [
       "part_id     click_dt         bounce_dt       open_dt        \n",
       "929930576   12/5/2020 0:00   8/25/2020 7:55  9/19/2020 0:00     1\n",
       "1624504676  12/9/2020 0:00   8/25/2020 7:48  11/29/2020 0:00    1\n",
       "1977756520  11/16/2020 0:00  7/30/2020 5:30  11/12/2020 0:00    1\n",
       "2541629799  10/19/2020 0:00  8/18/2020 6:04  10/14/2020 0:00    1\n",
       "4470791647  12/31/2020 0:00  8/25/2020 7:48  8/15/2020 0:00     1\n",
       "6483195957  1/25/2021 0:00   7/30/2020 5:30  9/22/2020 0:00     1\n",
       "8119335137  12/20/2020 0:00  8/29/2020 7:20  11/26/2020 0:00    1\n",
       "8890838825  1/8/2021 0:00    7/30/2020 5:30  11/12/2020 0:00    1\n",
       "9428035314  1/14/2021 0:00   7/30/2020 5:30  10/20/2020 0:00    1\n",
       "9576372771  2/9/2021 0:00    7/30/2020 5:30  1/13/2021 0:00     1\n",
       "dtype: int64"
      ]
     },
     "execution_count": 6,
     "metadata": {},
     "output_type": "execute_result"
    }
   ],
   "source": [
    "dfe.value_counts()"
   ]
  },
  {
   "cell_type": "markdown",
   "id": "577a5385",
   "metadata": {},
   "source": [
    "##### Observations:\n",
    "- It appears that when an event occurred (e.g. click_dt), the date is populated in the relevant column.  In the case of the bounced emails, it apperas a time is also tracked. Otherwise, if an event never occurs for a participant, the column shows as null."
   ]
  },
  {
   "cell_type": "code",
   "execution_count": 7,
   "id": "154ee7ff",
   "metadata": {},
   "outputs": [
    {
     "name": "stdout",
     "output_type": "stream",
     "text": [
      "<class 'pandas.core.frame.DataFrame'>\n",
      "RangeIndex: 41767 entries, 0 to 41766\n",
      "Data columns (total 4 columns):\n",
      " #   Column     Non-Null Count  Dtype \n",
      "---  ------     --------------  ----- \n",
      " 0   part_id    41767 non-null  int64 \n",
      " 1   click_dt   10507 non-null  object\n",
      " 2   bounce_dt  31 non-null     object\n",
      " 3   open_dt    21020 non-null  object\n",
      "dtypes: int64(1), object(3)\n",
      "memory usage: 1.3+ MB\n"
     ]
    }
   ],
   "source": [
    "dfe.info()"
   ]
  },
  {
   "cell_type": "code",
   "execution_count": 8,
   "id": "7b65782a",
   "metadata": {},
   "outputs": [],
   "source": [
    "# lambda functions to create columns for email analytics\n",
    "dfe['clicked_email'] = dfe['click_dt'].apply(lambda x: 1 if pd.notnull(x) else 0)\n",
    "dfe['bounced_email'] = dfe['bounce_dt'].apply(lambda x: 1 if pd.notnull(x) else 0)\n",
    "dfe['opened_email'] = dfe['open_dt'].apply(lambda x: 1 if pd.notnull(x) else 0)"
   ]
  },
  {
   "cell_type": "code",
   "execution_count": 9,
   "id": "6dc2d65c",
   "metadata": {},
   "outputs": [
    {
     "data": {
      "text/html": [
       "<div>\n",
       "<style scoped>\n",
       "    .dataframe tbody tr th:only-of-type {\n",
       "        vertical-align: middle;\n",
       "    }\n",
       "\n",
       "    .dataframe tbody tr th {\n",
       "        vertical-align: top;\n",
       "    }\n",
       "\n",
       "    .dataframe thead th {\n",
       "        text-align: right;\n",
       "    }\n",
       "</style>\n",
       "<table border=\"1\" class=\"dataframe\">\n",
       "  <thead>\n",
       "    <tr style=\"text-align: right;\">\n",
       "      <th></th>\n",
       "      <th>part_id</th>\n",
       "      <th>click_dt</th>\n",
       "      <th>bounce_dt</th>\n",
       "      <th>open_dt</th>\n",
       "      <th>clicked_email</th>\n",
       "      <th>bounced_email</th>\n",
       "      <th>opened_email</th>\n",
       "    </tr>\n",
       "  </thead>\n",
       "  <tbody>\n",
       "    <tr>\n",
       "      <th>0</th>\n",
       "      <td>1054161513</td>\n",
       "      <td>NaN</td>\n",
       "      <td>NaN</td>\n",
       "      <td>NaN</td>\n",
       "      <td>0</td>\n",
       "      <td>0</td>\n",
       "      <td>0</td>\n",
       "    </tr>\n",
       "    <tr>\n",
       "      <th>1</th>\n",
       "      <td>5761909860</td>\n",
       "      <td>NaN</td>\n",
       "      <td>NaN</td>\n",
       "      <td>NaN</td>\n",
       "      <td>0</td>\n",
       "      <td>0</td>\n",
       "      <td>0</td>\n",
       "    </tr>\n",
       "    <tr>\n",
       "      <th>2</th>\n",
       "      <td>9130086586</td>\n",
       "      <td>NaN</td>\n",
       "      <td>NaN</td>\n",
       "      <td>NaN</td>\n",
       "      <td>0</td>\n",
       "      <td>0</td>\n",
       "      <td>0</td>\n",
       "    </tr>\n",
       "    <tr>\n",
       "      <th>3</th>\n",
       "      <td>5496433327</td>\n",
       "      <td>NaN</td>\n",
       "      <td>NaN</td>\n",
       "      <td>NaN</td>\n",
       "      <td>0</td>\n",
       "      <td>0</td>\n",
       "      <td>0</td>\n",
       "    </tr>\n",
       "    <tr>\n",
       "      <th>4</th>\n",
       "      <td>8917877079</td>\n",
       "      <td>NaN</td>\n",
       "      <td>NaN</td>\n",
       "      <td>12/14/2020 0:00</td>\n",
       "      <td>0</td>\n",
       "      <td>0</td>\n",
       "      <td>1</td>\n",
       "    </tr>\n",
       "    <tr>\n",
       "      <th>5</th>\n",
       "      <td>2290016446</td>\n",
       "      <td>NaN</td>\n",
       "      <td>NaN</td>\n",
       "      <td>NaN</td>\n",
       "      <td>0</td>\n",
       "      <td>0</td>\n",
       "      <td>0</td>\n",
       "    </tr>\n",
       "    <tr>\n",
       "      <th>6</th>\n",
       "      <td>2057483407</td>\n",
       "      <td>1/10/2021 0:00</td>\n",
       "      <td>NaN</td>\n",
       "      <td>12/16/2020 0:00</td>\n",
       "      <td>1</td>\n",
       "      <td>0</td>\n",
       "      <td>1</td>\n",
       "    </tr>\n",
       "    <tr>\n",
       "      <th>7</th>\n",
       "      <td>2589661237</td>\n",
       "      <td>NaN</td>\n",
       "      <td>NaN</td>\n",
       "      <td>NaN</td>\n",
       "      <td>0</td>\n",
       "      <td>0</td>\n",
       "      <td>0</td>\n",
       "    </tr>\n",
       "    <tr>\n",
       "      <th>8</th>\n",
       "      <td>7772898223</td>\n",
       "      <td>NaN</td>\n",
       "      <td>NaN</td>\n",
       "      <td>NaN</td>\n",
       "      <td>0</td>\n",
       "      <td>0</td>\n",
       "      <td>0</td>\n",
       "    </tr>\n",
       "    <tr>\n",
       "      <th>9</th>\n",
       "      <td>6396357382</td>\n",
       "      <td>NaN</td>\n",
       "      <td>NaN</td>\n",
       "      <td>NaN</td>\n",
       "      <td>0</td>\n",
       "      <td>0</td>\n",
       "      <td>0</td>\n",
       "    </tr>\n",
       "    <tr>\n",
       "      <th>10</th>\n",
       "      <td>467838980</td>\n",
       "      <td>NaN</td>\n",
       "      <td>NaN</td>\n",
       "      <td>NaN</td>\n",
       "      <td>0</td>\n",
       "      <td>0</td>\n",
       "      <td>0</td>\n",
       "    </tr>\n",
       "    <tr>\n",
       "      <th>11</th>\n",
       "      <td>8025989118</td>\n",
       "      <td>NaN</td>\n",
       "      <td>NaN</td>\n",
       "      <td>NaN</td>\n",
       "      <td>0</td>\n",
       "      <td>0</td>\n",
       "      <td>0</td>\n",
       "    </tr>\n",
       "    <tr>\n",
       "      <th>12</th>\n",
       "      <td>6072638777</td>\n",
       "      <td>NaN</td>\n",
       "      <td>NaN</td>\n",
       "      <td>10/7/2020 0:00</td>\n",
       "      <td>0</td>\n",
       "      <td>0</td>\n",
       "      <td>1</td>\n",
       "    </tr>\n",
       "    <tr>\n",
       "      <th>13</th>\n",
       "      <td>1580127063</td>\n",
       "      <td>NaN</td>\n",
       "      <td>NaN</td>\n",
       "      <td>10/7/2020 0:00</td>\n",
       "      <td>0</td>\n",
       "      <td>0</td>\n",
       "      <td>1</td>\n",
       "    </tr>\n",
       "    <tr>\n",
       "      <th>14</th>\n",
       "      <td>9493848431</td>\n",
       "      <td>1/19/2021 0:00</td>\n",
       "      <td>NaN</td>\n",
       "      <td>10/19/2020 0:00</td>\n",
       "      <td>1</td>\n",
       "      <td>0</td>\n",
       "      <td>1</td>\n",
       "    </tr>\n",
       "    <tr>\n",
       "      <th>15</th>\n",
       "      <td>3108936366</td>\n",
       "      <td>NaN</td>\n",
       "      <td>NaN</td>\n",
       "      <td>NaN</td>\n",
       "      <td>0</td>\n",
       "      <td>0</td>\n",
       "      <td>0</td>\n",
       "    </tr>\n",
       "    <tr>\n",
       "      <th>16</th>\n",
       "      <td>804907002</td>\n",
       "      <td>NaN</td>\n",
       "      <td>NaN</td>\n",
       "      <td>NaN</td>\n",
       "      <td>0</td>\n",
       "      <td>0</td>\n",
       "      <td>0</td>\n",
       "    </tr>\n",
       "    <tr>\n",
       "      <th>17</th>\n",
       "      <td>3917419618</td>\n",
       "      <td>NaN</td>\n",
       "      <td>NaN</td>\n",
       "      <td>12/28/2020 0:00</td>\n",
       "      <td>0</td>\n",
       "      <td>0</td>\n",
       "      <td>1</td>\n",
       "    </tr>\n",
       "    <tr>\n",
       "      <th>18</th>\n",
       "      <td>5322875631</td>\n",
       "      <td>NaN</td>\n",
       "      <td>NaN</td>\n",
       "      <td>NaN</td>\n",
       "      <td>0</td>\n",
       "      <td>0</td>\n",
       "      <td>0</td>\n",
       "    </tr>\n",
       "    <tr>\n",
       "      <th>19</th>\n",
       "      <td>8045991761</td>\n",
       "      <td>12/5/2020 0:00</td>\n",
       "      <td>NaN</td>\n",
       "      <td>11/19/2020 0:00</td>\n",
       "      <td>1</td>\n",
       "      <td>0</td>\n",
       "      <td>1</td>\n",
       "    </tr>\n",
       "  </tbody>\n",
       "</table>\n",
       "</div>"
      ],
      "text/plain": [
       "       part_id        click_dt bounce_dt          open_dt  clicked_email  \\\n",
       "0   1054161513             NaN       NaN              NaN              0   \n",
       "1   5761909860             NaN       NaN              NaN              0   \n",
       "2   9130086586             NaN       NaN              NaN              0   \n",
       "3   5496433327             NaN       NaN              NaN              0   \n",
       "4   8917877079             NaN       NaN  12/14/2020 0:00              0   \n",
       "5   2290016446             NaN       NaN              NaN              0   \n",
       "6   2057483407  1/10/2021 0:00       NaN  12/16/2020 0:00              1   \n",
       "7   2589661237             NaN       NaN              NaN              0   \n",
       "8   7772898223             NaN       NaN              NaN              0   \n",
       "9   6396357382             NaN       NaN              NaN              0   \n",
       "10   467838980             NaN       NaN              NaN              0   \n",
       "11  8025989118             NaN       NaN              NaN              0   \n",
       "12  6072638777             NaN       NaN   10/7/2020 0:00              0   \n",
       "13  1580127063             NaN       NaN   10/7/2020 0:00              0   \n",
       "14  9493848431  1/19/2021 0:00       NaN  10/19/2020 0:00              1   \n",
       "15  3108936366             NaN       NaN              NaN              0   \n",
       "16   804907002             NaN       NaN              NaN              0   \n",
       "17  3917419618             NaN       NaN  12/28/2020 0:00              0   \n",
       "18  5322875631             NaN       NaN              NaN              0   \n",
       "19  8045991761  12/5/2020 0:00       NaN  11/19/2020 0:00              1   \n",
       "\n",
       "    bounced_email  opened_email  \n",
       "0               0             0  \n",
       "1               0             0  \n",
       "2               0             0  \n",
       "3               0             0  \n",
       "4               0             1  \n",
       "5               0             0  \n",
       "6               0             1  \n",
       "7               0             0  \n",
       "8               0             0  \n",
       "9               0             0  \n",
       "10              0             0  \n",
       "11              0             0  \n",
       "12              0             1  \n",
       "13              0             1  \n",
       "14              0             1  \n",
       "15              0             0  \n",
       "16              0             0  \n",
       "17              0             1  \n",
       "18              0             0  \n",
       "19              0             1  "
      ]
     },
     "execution_count": 9,
     "metadata": {},
     "output_type": "execute_result"
    }
   ],
   "source": [
    "dfe.head(20)"
   ]
  },
  {
   "cell_type": "code",
   "execution_count": 10,
   "id": "c346be85",
   "metadata": {},
   "outputs": [
    {
     "data": {
      "text/plain": [
       "10507"
      ]
     },
     "execution_count": 10,
     "metadata": {},
     "output_type": "execute_result"
    }
   ],
   "source": [
    "dfe.clicked_email.sum()"
   ]
  },
  {
   "cell_type": "code",
   "execution_count": null,
   "id": "001e7fda",
   "metadata": {},
   "outputs": [],
   "source": []
  },
  {
   "cell_type": "code",
   "execution_count": null,
   "id": "809c4d62",
   "metadata": {},
   "outputs": [
    {
     "data": {
      "text/plain": [
       "''"
      ]
     },
     "execution_count": 133,
     "metadata": {},
     "output_type": "execute_result"
    }
   ],
   "source": [
    "#df_day = pd.DataFrame(df2g.groupby('time')['count'].sum().reset_index())\n",
    "fig, ax = plt.subplots(figsize = (12 , 6))\n",
    "plt.title(\"Logins over course of day\")\n",
    "sns.barplot(x = 'open_dt', y = 'opened_email', data = dfe,\n",
    "            color = color_choice1\n",
    "            )\n",
    "\n",
    "ax.set_ylabel(\"Login Count\" , size = 12 )\n",
    "ax.set_xlabel( \"Time\" , size = 12 )\n",
    "ax.yaxis.set_major_formatter('{x:,.0f}')\n",
    "#plt.xticks(rotation=90)\n",
    "plt.xticks(np.arange(0, len(dfe)+1, 4))\n",
    "plt.xticks(rotation=90)\n",
    ";"
   ]
  },
  {
   "cell_type": "code",
   "execution_count": null,
   "id": "2bf7443f",
   "metadata": {},
   "outputs": [],
   "source": []
  },
  {
   "cell_type": "code",
   "execution_count": null,
   "id": "08ecaf30",
   "metadata": {},
   "outputs": [],
   "source": []
  },
  {
   "cell_type": "code",
   "execution_count": null,
   "id": "0b90c372",
   "metadata": {},
   "outputs": [],
   "source": []
  },
  {
   "cell_type": "markdown",
   "id": "c0a8195a",
   "metadata": {},
   "source": [
    "Now I'll look at the demos dataset"
   ]
  },
  {
   "cell_type": "code",
   "execution_count": 12,
   "id": "e0814fe4",
   "metadata": {},
   "outputs": [
    {
     "data": {
      "text/plain": [
       "(41767, 10)"
      ]
     },
     "execution_count": 12,
     "metadata": {},
     "output_type": "execute_result"
    }
   ],
   "source": [
    "# check shape\n",
    "dfd.shape"
   ]
  },
  {
   "cell_type": "code",
   "execution_count": 13,
   "id": "6008932e",
   "metadata": {},
   "outputs": [
    {
     "data": {
      "text/plain": [
       "part_id     41767\n",
       "fund_ct         8\n",
       "logon_ct       10\n",
       "call_ct         6\n",
       "balance     41613\n",
       "tenure         79\n",
       "age            60\n",
       "gender          3\n",
       "status          4\n",
       "campaign        3\n",
       "dtype: int64"
      ]
     },
     "execution_count": 13,
     "metadata": {},
     "output_type": "execute_result"
    }
   ],
   "source": [
    "# ensure that aren't duplicate IDs\n",
    "dfd.nunique()"
   ]
  },
  {
   "cell_type": "code",
   "execution_count": 14,
   "id": "1ad698b4",
   "metadata": {},
   "outputs": [
    {
     "data": {
      "text/html": [
       "<div>\n",
       "<style scoped>\n",
       "    .dataframe tbody tr th:only-of-type {\n",
       "        vertical-align: middle;\n",
       "    }\n",
       "\n",
       "    .dataframe tbody tr th {\n",
       "        vertical-align: top;\n",
       "    }\n",
       "\n",
       "    .dataframe thead th {\n",
       "        text-align: right;\n",
       "    }\n",
       "</style>\n",
       "<table border=\"1\" class=\"dataframe\">\n",
       "  <thead>\n",
       "    <tr style=\"text-align: right;\">\n",
       "      <th></th>\n",
       "      <th>part_id</th>\n",
       "      <th>fund_ct</th>\n",
       "      <th>logon_ct</th>\n",
       "      <th>call_ct</th>\n",
       "      <th>balance</th>\n",
       "      <th>tenure</th>\n",
       "      <th>age</th>\n",
       "      <th>gender</th>\n",
       "      <th>status</th>\n",
       "      <th>campaign</th>\n",
       "    </tr>\n",
       "  </thead>\n",
       "  <tbody>\n",
       "    <tr>\n",
       "      <th>0</th>\n",
       "      <td>1054161513</td>\n",
       "      <td>6</td>\n",
       "      <td>11</td>\n",
       "      <td>1</td>\n",
       "      <td>70,377.57</td>\n",
       "      <td>6.0</td>\n",
       "      <td>44.2</td>\n",
       "      <td>0</td>\n",
       "      <td>0</td>\n",
       "      <td>0</td>\n",
       "    </tr>\n",
       "    <tr>\n",
       "      <th>1</th>\n",
       "      <td>5761909860</td>\n",
       "      <td>7</td>\n",
       "      <td>13</td>\n",
       "      <td>2</td>\n",
       "      <td>63,505.69</td>\n",
       "      <td>6.6</td>\n",
       "      <td>44.2</td>\n",
       "      <td>0</td>\n",
       "      <td>1</td>\n",
       "      <td>1</td>\n",
       "    </tr>\n",
       "    <tr>\n",
       "      <th>2</th>\n",
       "      <td>9130086586</td>\n",
       "      <td>6</td>\n",
       "      <td>13</td>\n",
       "      <td>2</td>\n",
       "      <td>55,933.94</td>\n",
       "      <td>5.9</td>\n",
       "      <td>43.7</td>\n",
       "      <td>1</td>\n",
       "      <td>0</td>\n",
       "      <td>1</td>\n",
       "    </tr>\n",
       "    <tr>\n",
       "      <th>3</th>\n",
       "      <td>5496433327</td>\n",
       "      <td>6</td>\n",
       "      <td>12</td>\n",
       "      <td>2</td>\n",
       "      <td>81,072.63</td>\n",
       "      <td>5.5</td>\n",
       "      <td>45.5</td>\n",
       "      <td>0</td>\n",
       "      <td>1</td>\n",
       "      <td>1</td>\n",
       "    </tr>\n",
       "    <tr>\n",
       "      <th>4</th>\n",
       "      <td>8917877079</td>\n",
       "      <td>8</td>\n",
       "      <td>12</td>\n",
       "      <td>0</td>\n",
       "      <td>87,534.41</td>\n",
       "      <td>3.8</td>\n",
       "      <td>45.3</td>\n",
       "      <td>1</td>\n",
       "      <td>0</td>\n",
       "      <td>0</td>\n",
       "    </tr>\n",
       "    <tr>\n",
       "      <th>5</th>\n",
       "      <td>2290016446</td>\n",
       "      <td>8</td>\n",
       "      <td>13</td>\n",
       "      <td>0</td>\n",
       "      <td>58,230.81</td>\n",
       "      <td>7.7</td>\n",
       "      <td>46.9</td>\n",
       "      <td>1</td>\n",
       "      <td>1</td>\n",
       "      <td>0</td>\n",
       "    </tr>\n",
       "    <tr>\n",
       "      <th>6</th>\n",
       "      <td>2057483407</td>\n",
       "      <td>6</td>\n",
       "      <td>11</td>\n",
       "      <td>0</td>\n",
       "      <td>62,525.32</td>\n",
       "      <td>6.0</td>\n",
       "      <td>45.3</td>\n",
       "      <td>0</td>\n",
       "      <td>0</td>\n",
       "      <td>0</td>\n",
       "    </tr>\n",
       "    <tr>\n",
       "      <th>7</th>\n",
       "      <td>2589661237</td>\n",
       "      <td>6</td>\n",
       "      <td>12</td>\n",
       "      <td>0</td>\n",
       "      <td>62,312.19</td>\n",
       "      <td>6.7</td>\n",
       "      <td>44.2</td>\n",
       "      <td>0</td>\n",
       "      <td>0</td>\n",
       "      <td>0</td>\n",
       "    </tr>\n",
       "    <tr>\n",
       "      <th>8</th>\n",
       "      <td>7772898223</td>\n",
       "      <td>7</td>\n",
       "      <td>12</td>\n",
       "      <td>2</td>\n",
       "      <td>72,888.63</td>\n",
       "      <td>6.1</td>\n",
       "      <td>44.1</td>\n",
       "      <td>1</td>\n",
       "      <td>0</td>\n",
       "      <td>1</td>\n",
       "    </tr>\n",
       "    <tr>\n",
       "      <th>9</th>\n",
       "      <td>6396357382</td>\n",
       "      <td>6</td>\n",
       "      <td>12</td>\n",
       "      <td>2</td>\n",
       "      <td>40,425.5</td>\n",
       "      <td>7.2</td>\n",
       "      <td>44.4</td>\n",
       "      <td>0</td>\n",
       "      <td>0</td>\n",
       "      <td>1</td>\n",
       "    </tr>\n",
       "  </tbody>\n",
       "</table>\n",
       "</div>"
      ],
      "text/plain": [
       "      part_id  fund_ct  logon_ct  call_ct   balance  tenure  age  gender  \\\n",
       "0  1054161513        6        11        1 70,377.57     6.0 44.2       0   \n",
       "1  5761909860        7        13        2 63,505.69     6.6 44.2       0   \n",
       "2  9130086586        6        13        2 55,933.94     5.9 43.7       1   \n",
       "3  5496433327        6        12        2 81,072.63     5.5 45.5       0   \n",
       "4  8917877079        8        12        0 87,534.41     3.8 45.3       1   \n",
       "5  2290016446        8        13        0 58,230.81     7.7 46.9       1   \n",
       "6  2057483407        6        11        0 62,525.32     6.0 45.3       0   \n",
       "7  2589661237        6        12        0 62,312.19     6.7 44.2       0   \n",
       "8  7772898223        7        12        2 72,888.63     6.1 44.1       1   \n",
       "9  6396357382        6        12        2  40,425.5     7.2 44.4       0   \n",
       "\n",
       "   status  campaign  \n",
       "0       0         0  \n",
       "1       1         1  \n",
       "2       0         1  \n",
       "3       1         1  \n",
       "4       0         0  \n",
       "5       1         0  \n",
       "6       0         0  \n",
       "7       0         0  \n",
       "8       0         1  \n",
       "9       0         1  "
      ]
     },
     "execution_count": 14,
     "metadata": {},
     "output_type": "execute_result"
    }
   ],
   "source": [
    "dfd.head(10)"
   ]
  },
  {
   "cell_type": "markdown",
   "id": "1f6517d0",
   "metadata": {},
   "source": [
    "# <font color='red'>re-run for final**</font>\n",
    "\n",
    "profile = ProfileReport(dfd)\n",
    "profile"
   ]
  },
  {
   "cell_type": "markdown",
   "id": "b00ac9fd",
   "metadata": {},
   "source": [
    "##### Observations on dataset\n",
    "- No missing values nor duplicates\n",
    "- Appears to be high correlation between fund_ct and status, and call_ct and campaign.  Will investigate this and determine best path forward.\n",
    "- There were some outliers that may need to be addressed (e.g. in fund_ct, and logon_ct); will check to see if removing them imporves modeling\n",
    "- balance: there are three negative balances, which doesn't seem logical. Thsi could be a data issue, or an accounting nuance\n",
    "- generally the features were reasonably well distributed. Not perfectly normal, but not skewed in a way that is overly concerning.\n",
    "- tenure: generally shows a normal distribution, however there are some strange dips in certain tenure periods. could be caused by something like seasonal acquisition of participants?\n",
    "- age: there is a peak in participants at one particular age - will need to investigate\n",
    "- gender: one value is unknown - it may make sense to amend this to either male or female.  gender data is also highly imbalanced towards males.\n",
    "- status: should only be values for 0 and 1, but there are 11 values that are either 2 or 3.  will need to modify this.\n",
    "- campaign: In theory this variable should have been split into thirds - i.e. one-third received Email A, one-third received Email B, one-third did not receive the email.  Instead many more participants received Email B"
   ]
  },
  {
   "cell_type": "code",
   "execution_count": null,
   "id": "45d24eb0",
   "metadata": {},
   "outputs": [],
   "source": []
  },
  {
   "cell_type": "markdown",
   "id": "1c54d4d2",
   "metadata": {},
   "source": [
    "Before addressing the issues called out above, I will merge the the two files on part_id"
   ]
  },
  {
   "cell_type": "code",
   "execution_count": 15,
   "id": "76ea778e",
   "metadata": {},
   "outputs": [],
   "source": [
    "df = dfd.merge(dfe[['click_dt', 'bounce_dt', 'open_dt', 'clicked_email', 'bounced_email', 'opened_email']], how = 'left',\n",
    "                left_on = 'part_id', right_on = dfe['part_id'])\n"
   ]
  },
  {
   "cell_type": "code",
   "execution_count": 16,
   "id": "c1fa7031",
   "metadata": {},
   "outputs": [
    {
     "data": {
      "text/plain": [
       "(41767, 16)"
      ]
     },
     "execution_count": 16,
     "metadata": {},
     "output_type": "execute_result"
    }
   ],
   "source": [
    "# check shape to ensure merge went correctly\n",
    "df.shape"
   ]
  },
  {
   "cell_type": "code",
   "execution_count": 17,
   "id": "dab540bd",
   "metadata": {},
   "outputs": [
    {
     "data": {
      "text/html": [
       "<div>\n",
       "<style scoped>\n",
       "    .dataframe tbody tr th:only-of-type {\n",
       "        vertical-align: middle;\n",
       "    }\n",
       "\n",
       "    .dataframe tbody tr th {\n",
       "        vertical-align: top;\n",
       "    }\n",
       "\n",
       "    .dataframe thead th {\n",
       "        text-align: right;\n",
       "    }\n",
       "</style>\n",
       "<table border=\"1\" class=\"dataframe\">\n",
       "  <thead>\n",
       "    <tr style=\"text-align: right;\">\n",
       "      <th></th>\n",
       "      <th>part_id</th>\n",
       "      <th>fund_ct</th>\n",
       "      <th>logon_ct</th>\n",
       "      <th>call_ct</th>\n",
       "      <th>balance</th>\n",
       "      <th>tenure</th>\n",
       "      <th>age</th>\n",
       "      <th>gender</th>\n",
       "      <th>status</th>\n",
       "      <th>campaign</th>\n",
       "      <th>click_dt</th>\n",
       "      <th>bounce_dt</th>\n",
       "      <th>open_dt</th>\n",
       "      <th>clicked_email</th>\n",
       "      <th>bounced_email</th>\n",
       "      <th>opened_email</th>\n",
       "    </tr>\n",
       "  </thead>\n",
       "  <tbody>\n",
       "    <tr>\n",
       "      <th>0</th>\n",
       "      <td>1054161513</td>\n",
       "      <td>6</td>\n",
       "      <td>11</td>\n",
       "      <td>1</td>\n",
       "      <td>70,377.57</td>\n",
       "      <td>6.0</td>\n",
       "      <td>44.2</td>\n",
       "      <td>0</td>\n",
       "      <td>0</td>\n",
       "      <td>0</td>\n",
       "      <td>NaN</td>\n",
       "      <td>NaN</td>\n",
       "      <td>NaN</td>\n",
       "      <td>0</td>\n",
       "      <td>0</td>\n",
       "      <td>0</td>\n",
       "    </tr>\n",
       "    <tr>\n",
       "      <th>1</th>\n",
       "      <td>5761909860</td>\n",
       "      <td>7</td>\n",
       "      <td>13</td>\n",
       "      <td>2</td>\n",
       "      <td>63,505.69</td>\n",
       "      <td>6.6</td>\n",
       "      <td>44.2</td>\n",
       "      <td>0</td>\n",
       "      <td>1</td>\n",
       "      <td>1</td>\n",
       "      <td>NaN</td>\n",
       "      <td>NaN</td>\n",
       "      <td>NaN</td>\n",
       "      <td>0</td>\n",
       "      <td>0</td>\n",
       "      <td>0</td>\n",
       "    </tr>\n",
       "    <tr>\n",
       "      <th>2</th>\n",
       "      <td>9130086586</td>\n",
       "      <td>6</td>\n",
       "      <td>13</td>\n",
       "      <td>2</td>\n",
       "      <td>55,933.94</td>\n",
       "      <td>5.9</td>\n",
       "      <td>43.7</td>\n",
       "      <td>1</td>\n",
       "      <td>0</td>\n",
       "      <td>1</td>\n",
       "      <td>NaN</td>\n",
       "      <td>NaN</td>\n",
       "      <td>NaN</td>\n",
       "      <td>0</td>\n",
       "      <td>0</td>\n",
       "      <td>0</td>\n",
       "    </tr>\n",
       "    <tr>\n",
       "      <th>3</th>\n",
       "      <td>5496433327</td>\n",
       "      <td>6</td>\n",
       "      <td>12</td>\n",
       "      <td>2</td>\n",
       "      <td>81,072.63</td>\n",
       "      <td>5.5</td>\n",
       "      <td>45.5</td>\n",
       "      <td>0</td>\n",
       "      <td>1</td>\n",
       "      <td>1</td>\n",
       "      <td>NaN</td>\n",
       "      <td>NaN</td>\n",
       "      <td>NaN</td>\n",
       "      <td>0</td>\n",
       "      <td>0</td>\n",
       "      <td>0</td>\n",
       "    </tr>\n",
       "    <tr>\n",
       "      <th>4</th>\n",
       "      <td>8917877079</td>\n",
       "      <td>8</td>\n",
       "      <td>12</td>\n",
       "      <td>0</td>\n",
       "      <td>87,534.41</td>\n",
       "      <td>3.8</td>\n",
       "      <td>45.3</td>\n",
       "      <td>1</td>\n",
       "      <td>0</td>\n",
       "      <td>0</td>\n",
       "      <td>NaN</td>\n",
       "      <td>NaN</td>\n",
       "      <td>12/14/2020 0:00</td>\n",
       "      <td>0</td>\n",
       "      <td>0</td>\n",
       "      <td>1</td>\n",
       "    </tr>\n",
       "    <tr>\n",
       "      <th>5</th>\n",
       "      <td>2290016446</td>\n",
       "      <td>8</td>\n",
       "      <td>13</td>\n",
       "      <td>0</td>\n",
       "      <td>58,230.81</td>\n",
       "      <td>7.7</td>\n",
       "      <td>46.9</td>\n",
       "      <td>1</td>\n",
       "      <td>1</td>\n",
       "      <td>0</td>\n",
       "      <td>NaN</td>\n",
       "      <td>NaN</td>\n",
       "      <td>NaN</td>\n",
       "      <td>0</td>\n",
       "      <td>0</td>\n",
       "      <td>0</td>\n",
       "    </tr>\n",
       "    <tr>\n",
       "      <th>6</th>\n",
       "      <td>2057483407</td>\n",
       "      <td>6</td>\n",
       "      <td>11</td>\n",
       "      <td>0</td>\n",
       "      <td>62,525.32</td>\n",
       "      <td>6.0</td>\n",
       "      <td>45.3</td>\n",
       "      <td>0</td>\n",
       "      <td>0</td>\n",
       "      <td>0</td>\n",
       "      <td>1/10/2021 0:00</td>\n",
       "      <td>NaN</td>\n",
       "      <td>12/16/2020 0:00</td>\n",
       "      <td>1</td>\n",
       "      <td>0</td>\n",
       "      <td>1</td>\n",
       "    </tr>\n",
       "    <tr>\n",
       "      <th>7</th>\n",
       "      <td>2589661237</td>\n",
       "      <td>6</td>\n",
       "      <td>12</td>\n",
       "      <td>0</td>\n",
       "      <td>62,312.19</td>\n",
       "      <td>6.7</td>\n",
       "      <td>44.2</td>\n",
       "      <td>0</td>\n",
       "      <td>0</td>\n",
       "      <td>0</td>\n",
       "      <td>NaN</td>\n",
       "      <td>NaN</td>\n",
       "      <td>NaN</td>\n",
       "      <td>0</td>\n",
       "      <td>0</td>\n",
       "      <td>0</td>\n",
       "    </tr>\n",
       "    <tr>\n",
       "      <th>8</th>\n",
       "      <td>7772898223</td>\n",
       "      <td>7</td>\n",
       "      <td>12</td>\n",
       "      <td>2</td>\n",
       "      <td>72,888.63</td>\n",
       "      <td>6.1</td>\n",
       "      <td>44.1</td>\n",
       "      <td>1</td>\n",
       "      <td>0</td>\n",
       "      <td>1</td>\n",
       "      <td>NaN</td>\n",
       "      <td>NaN</td>\n",
       "      <td>NaN</td>\n",
       "      <td>0</td>\n",
       "      <td>0</td>\n",
       "      <td>0</td>\n",
       "    </tr>\n",
       "    <tr>\n",
       "      <th>9</th>\n",
       "      <td>6396357382</td>\n",
       "      <td>6</td>\n",
       "      <td>12</td>\n",
       "      <td>2</td>\n",
       "      <td>40,425.5</td>\n",
       "      <td>7.2</td>\n",
       "      <td>44.4</td>\n",
       "      <td>0</td>\n",
       "      <td>0</td>\n",
       "      <td>1</td>\n",
       "      <td>NaN</td>\n",
       "      <td>NaN</td>\n",
       "      <td>NaN</td>\n",
       "      <td>0</td>\n",
       "      <td>0</td>\n",
       "      <td>0</td>\n",
       "    </tr>\n",
       "  </tbody>\n",
       "</table>\n",
       "</div>"
      ],
      "text/plain": [
       "      part_id  fund_ct  logon_ct  call_ct   balance  tenure  age  gender  \\\n",
       "0  1054161513        6        11        1 70,377.57     6.0 44.2       0   \n",
       "1  5761909860        7        13        2 63,505.69     6.6 44.2       0   \n",
       "2  9130086586        6        13        2 55,933.94     5.9 43.7       1   \n",
       "3  5496433327        6        12        2 81,072.63     5.5 45.5       0   \n",
       "4  8917877079        8        12        0 87,534.41     3.8 45.3       1   \n",
       "5  2290016446        8        13        0 58,230.81     7.7 46.9       1   \n",
       "6  2057483407        6        11        0 62,525.32     6.0 45.3       0   \n",
       "7  2589661237        6        12        0 62,312.19     6.7 44.2       0   \n",
       "8  7772898223        7        12        2 72,888.63     6.1 44.1       1   \n",
       "9  6396357382        6        12        2  40,425.5     7.2 44.4       0   \n",
       "\n",
       "   status  campaign        click_dt bounce_dt          open_dt  clicked_email  \\\n",
       "0       0         0             NaN       NaN              NaN              0   \n",
       "1       1         1             NaN       NaN              NaN              0   \n",
       "2       0         1             NaN       NaN              NaN              0   \n",
       "3       1         1             NaN       NaN              NaN              0   \n",
       "4       0         0             NaN       NaN  12/14/2020 0:00              0   \n",
       "5       1         0             NaN       NaN              NaN              0   \n",
       "6       0         0  1/10/2021 0:00       NaN  12/16/2020 0:00              1   \n",
       "7       0         0             NaN       NaN              NaN              0   \n",
       "8       0         1             NaN       NaN              NaN              0   \n",
       "9       0         1             NaN       NaN              NaN              0   \n",
       "\n",
       "   bounced_email  opened_email  \n",
       "0              0             0  \n",
       "1              0             0  \n",
       "2              0             0  \n",
       "3              0             0  \n",
       "4              0             1  \n",
       "5              0             0  \n",
       "6              0             1  \n",
       "7              0             0  \n",
       "8              0             0  \n",
       "9              0             0  "
      ]
     },
     "execution_count": 17,
     "metadata": {},
     "output_type": "execute_result"
    }
   ],
   "source": [
    "df.head(10)"
   ]
  },
  {
   "cell_type": "code",
   "execution_count": 18,
   "id": "6ea6f6e2",
   "metadata": {},
   "outputs": [
    {
     "name": "stdout",
     "output_type": "stream",
     "text": [
      "<class 'pandas.core.frame.DataFrame'>\n",
      "Int64Index: 41767 entries, 0 to 41766\n",
      "Data columns (total 16 columns):\n",
      " #   Column         Non-Null Count  Dtype  \n",
      "---  ------         --------------  -----  \n",
      " 0   part_id        41767 non-null  int64  \n",
      " 1   fund_ct        41767 non-null  int64  \n",
      " 2   logon_ct       41767 non-null  int64  \n",
      " 3   call_ct        41767 non-null  int64  \n",
      " 4   balance        41767 non-null  float64\n",
      " 5   tenure         41767 non-null  float64\n",
      " 6   age            41767 non-null  float64\n",
      " 7   gender         41767 non-null  int64  \n",
      " 8   status         41767 non-null  int64  \n",
      " 9   campaign       41767 non-null  int64  \n",
      " 10  click_dt       10507 non-null  object \n",
      " 11  bounce_dt      31 non-null     object \n",
      " 12  open_dt        21020 non-null  object \n",
      " 13  clicked_email  41767 non-null  int64  \n",
      " 14  bounced_email  41767 non-null  int64  \n",
      " 15  opened_email   41767 non-null  int64  \n",
      "dtypes: float64(3), int64(10), object(3)\n",
      "memory usage: 5.4+ MB\n"
     ]
    }
   ],
   "source": [
    "df.info()"
   ]
  },
  {
   "cell_type": "code",
   "execution_count": 19,
   "id": "ee2b83d5",
   "metadata": {},
   "outputs": [],
   "source": [
    "df_numeric = df[['fund_ct', 'logon_ct', 'call_ct', 'balance', 'tenure', 'age']]"
   ]
  },
  {
   "cell_type": "code",
   "execution_count": 20,
   "id": "76a16994",
   "metadata": {},
   "outputs": [],
   "source": [
    "# use a scatter matrix to check if variables are normally distributed, as well see if there is correlation between variables\n",
    "#scatter_matrix(df_numeric, figsize=(12,12));"
   ]
  },
  {
   "cell_type": "code",
   "execution_count": 21,
   "id": "ac62a5a2",
   "metadata": {},
   "outputs": [
    {
     "data": {
      "text/html": [
       "<div>\n",
       "<style scoped>\n",
       "    .dataframe tbody tr th:only-of-type {\n",
       "        vertical-align: middle;\n",
       "    }\n",
       "\n",
       "    .dataframe tbody tr th {\n",
       "        vertical-align: top;\n",
       "    }\n",
       "\n",
       "    .dataframe thead th {\n",
       "        text-align: right;\n",
       "    }\n",
       "</style>\n",
       "<table border=\"1\" class=\"dataframe\">\n",
       "  <thead>\n",
       "    <tr style=\"text-align: right;\">\n",
       "      <th></th>\n",
       "      <th>part_id</th>\n",
       "      <th>fund_ct</th>\n",
       "      <th>logon_ct</th>\n",
       "      <th>call_ct</th>\n",
       "      <th>balance</th>\n",
       "      <th>tenure</th>\n",
       "      <th>age</th>\n",
       "      <th>gender</th>\n",
       "      <th>status</th>\n",
       "      <th>campaign</th>\n",
       "      <th>clicked_email</th>\n",
       "      <th>bounced_email</th>\n",
       "      <th>opened_email</th>\n",
       "    </tr>\n",
       "  </thead>\n",
       "  <tbody>\n",
       "    <tr>\n",
       "      <th>count</th>\n",
       "      <td>41,767.0</td>\n",
       "      <td>41,767.0</td>\n",
       "      <td>41,767.0</td>\n",
       "      <td>41,767.0</td>\n",
       "      <td>41,767.0</td>\n",
       "      <td>41,767.0</td>\n",
       "      <td>41,767.0</td>\n",
       "      <td>41,767.0</td>\n",
       "      <td>41,767.0</td>\n",
       "      <td>41,767.0</td>\n",
       "      <td>41,767.0</td>\n",
       "      <td>41,767.0</td>\n",
       "      <td>41,767.0</td>\n",
       "    </tr>\n",
       "    <tr>\n",
       "      <th>mean</th>\n",
       "      <td>4,999,553,392.514425</td>\n",
       "      <td>6.291474130294252</td>\n",
       "      <td>12.041300548279743</td>\n",
       "      <td>1.1472214906505136</td>\n",
       "      <td>60,046.14744870338</td>\n",
       "      <td>6.007113271242807</td>\n",
       "      <td>44.999588191634686</td>\n",
       "      <td>0.27270333038044386</td>\n",
       "      <td>0.3715612804367084</td>\n",
       "      <td>0.7359159144779371</td>\n",
       "      <td>0.25156223813058154</td>\n",
       "      <td>0.000742212751693921</td>\n",
       "      <td>0.5032681303421361</td>\n",
       "    </tr>\n",
       "    <tr>\n",
       "      <th>std</th>\n",
       "      <td>2,890,176,003.149778</td>\n",
       "      <td>0.7522984929543355</td>\n",
       "      <td>1.0917073082408002</td>\n",
       "      <td>1.0536275854304629</td>\n",
       "      <td>15,031.505232589734</td>\n",
       "      <td>1.0014979042285477</td>\n",
       "      <td>0.914382424920391</td>\n",
       "      <td>0.44540864222438287</td>\n",
       "      <td>0.48387147259828966</td>\n",
       "      <td>0.6390228118878366</td>\n",
       "      <td>0.43391610527699576</td>\n",
       "      <td>0.027233795722884768</td>\n",
       "      <td>0.4999953047764535</td>\n",
       "    </tr>\n",
       "    <tr>\n",
       "      <th>min</th>\n",
       "      <td>133,214.0</td>\n",
       "      <td>5.0</td>\n",
       "      <td>10.0</td>\n",
       "      <td>0.0</td>\n",
       "      <td>-7,984.65</td>\n",
       "      <td>1.7</td>\n",
       "      <td>42.7</td>\n",
       "      <td>0.0</td>\n",
       "      <td>0.0</td>\n",
       "      <td>0.0</td>\n",
       "      <td>0.0</td>\n",
       "      <td>0.0</td>\n",
       "      <td>0.0</td>\n",
       "    </tr>\n",
       "    <tr>\n",
       "      <th>25%</th>\n",
       "      <td>2,509,040,208.5</td>\n",
       "      <td>6.0</td>\n",
       "      <td>11.0</td>\n",
       "      <td>0.0</td>\n",
       "      <td>49,879.16499999999</td>\n",
       "      <td>5.3</td>\n",
       "      <td>44.3</td>\n",
       "      <td>0.0</td>\n",
       "      <td>0.0</td>\n",
       "      <td>0.0</td>\n",
       "      <td>0.0</td>\n",
       "      <td>0.0</td>\n",
       "      <td>0.0</td>\n",
       "    </tr>\n",
       "    <tr>\n",
       "      <th>50%</th>\n",
       "      <td>5,010,378,650.0</td>\n",
       "      <td>6.0</td>\n",
       "      <td>12.0</td>\n",
       "      <td>2.0</td>\n",
       "      <td>60,043.1</td>\n",
       "      <td>6.0</td>\n",
       "      <td>44.8</td>\n",
       "      <td>0.0</td>\n",
       "      <td>0.0</td>\n",
       "      <td>1.0</td>\n",
       "      <td>0.0</td>\n",
       "      <td>0.0</td>\n",
       "      <td>1.0</td>\n",
       "    </tr>\n",
       "    <tr>\n",
       "      <th>75%</th>\n",
       "      <td>7,506,105,835.0</td>\n",
       "      <td>7.0</td>\n",
       "      <td>13.0</td>\n",
       "      <td>2.0</td>\n",
       "      <td>70,151.315</td>\n",
       "      <td>6.7</td>\n",
       "      <td>45.7</td>\n",
       "      <td>1.0</td>\n",
       "      <td>1.0</td>\n",
       "      <td>1.0</td>\n",
       "      <td>1.0</td>\n",
       "      <td>0.0</td>\n",
       "      <td>1.0</td>\n",
       "    </tr>\n",
       "    <tr>\n",
       "      <th>max</th>\n",
       "      <td>9,999,917,951.0</td>\n",
       "      <td>12.0</td>\n",
       "      <td>19.0</td>\n",
       "      <td>5.0</td>\n",
       "      <td>126,301.31</td>\n",
       "      <td>10.0</td>\n",
       "      <td>48.9</td>\n",
       "      <td>2.0</td>\n",
       "      <td>3.0</td>\n",
       "      <td>2.0</td>\n",
       "      <td>1.0</td>\n",
       "      <td>1.0</td>\n",
       "      <td>1.0</td>\n",
       "    </tr>\n",
       "  </tbody>\n",
       "</table>\n",
       "</div>"
      ],
      "text/plain": [
       "                   part_id            fund_ct           logon_ct  \\\n",
       "count             41,767.0           41,767.0           41,767.0   \n",
       "mean  4,999,553,392.514425  6.291474130294252 12.041300548279743   \n",
       "std   2,890,176,003.149778 0.7522984929543355 1.0917073082408002   \n",
       "min              133,214.0                5.0               10.0   \n",
       "25%        2,509,040,208.5                6.0               11.0   \n",
       "50%        5,010,378,650.0                6.0               12.0   \n",
       "75%        7,506,105,835.0                7.0               13.0   \n",
       "max        9,999,917,951.0               12.0               19.0   \n",
       "\n",
       "                 call_ct             balance             tenure  \\\n",
       "count           41,767.0            41,767.0           41,767.0   \n",
       "mean  1.1472214906505136  60,046.14744870338  6.007113271242807   \n",
       "std   1.0536275854304629 15,031.505232589734 1.0014979042285477   \n",
       "min                  0.0           -7,984.65                1.7   \n",
       "25%                  0.0  49,879.16499999999                5.3   \n",
       "50%                  2.0            60,043.1                6.0   \n",
       "75%                  2.0          70,151.315                6.7   \n",
       "max                  5.0          126,301.31               10.0   \n",
       "\n",
       "                     age              gender              status  \\\n",
       "count           41,767.0            41,767.0            41,767.0   \n",
       "mean  44.999588191634686 0.27270333038044386  0.3715612804367084   \n",
       "std    0.914382424920391 0.44540864222438287 0.48387147259828966   \n",
       "min                 42.7                 0.0                 0.0   \n",
       "25%                 44.3                 0.0                 0.0   \n",
       "50%                 44.8                 0.0                 0.0   \n",
       "75%                 45.7                 1.0                 1.0   \n",
       "max                 48.9                 2.0                 3.0   \n",
       "\n",
       "                campaign       clicked_email        bounced_email  \\\n",
       "count           41,767.0            41,767.0             41,767.0   \n",
       "mean  0.7359159144779371 0.25156223813058154 0.000742212751693921   \n",
       "std   0.6390228118878366 0.43391610527699576 0.027233795722884768   \n",
       "min                  0.0                 0.0                  0.0   \n",
       "25%                  0.0                 0.0                  0.0   \n",
       "50%                  1.0                 0.0                  0.0   \n",
       "75%                  1.0                 1.0                  0.0   \n",
       "max                  2.0                 1.0                  1.0   \n",
       "\n",
       "            opened_email  \n",
       "count           41,767.0  \n",
       "mean  0.5032681303421361  \n",
       "std   0.4999953047764535  \n",
       "min                  0.0  \n",
       "25%                  0.0  \n",
       "50%                  1.0  \n",
       "75%                  1.0  \n",
       "max                  1.0  "
      ]
     },
     "execution_count": 21,
     "metadata": {},
     "output_type": "execute_result"
    }
   ],
   "source": [
    "df.describe()"
   ]
  },
  {
   "cell_type": "code",
   "execution_count": 22,
   "id": "8771248c",
   "metadata": {},
   "outputs": [
    {
     "data": {
      "text/html": [
       "<div>\n",
       "<style scoped>\n",
       "    .dataframe tbody tr th:only-of-type {\n",
       "        vertical-align: middle;\n",
       "    }\n",
       "\n",
       "    .dataframe tbody tr th {\n",
       "        vertical-align: top;\n",
       "    }\n",
       "\n",
       "    .dataframe thead th {\n",
       "        text-align: right;\n",
       "    }\n",
       "</style>\n",
       "<table border=\"1\" class=\"dataframe\">\n",
       "  <thead>\n",
       "    <tr style=\"text-align: right;\">\n",
       "      <th></th>\n",
       "      <th>part_id</th>\n",
       "      <th>fund_ct</th>\n",
       "      <th>logon_ct</th>\n",
       "      <th>call_ct</th>\n",
       "      <th>balance</th>\n",
       "      <th>tenure</th>\n",
       "      <th>age</th>\n",
       "      <th>gender</th>\n",
       "      <th>status</th>\n",
       "      <th>campaign</th>\n",
       "      <th>click_dt</th>\n",
       "      <th>bounce_dt</th>\n",
       "      <th>open_dt</th>\n",
       "      <th>clicked_email</th>\n",
       "      <th>bounced_email</th>\n",
       "      <th>opened_email</th>\n",
       "    </tr>\n",
       "  </thead>\n",
       "  <tbody>\n",
       "    <tr>\n",
       "      <th>722</th>\n",
       "      <td>8777530917</td>\n",
       "      <td>6</td>\n",
       "      <td>12</td>\n",
       "      <td>2</td>\n",
       "      <td>-7,984.65</td>\n",
       "      <td>4.3</td>\n",
       "      <td>44.2</td>\n",
       "      <td>0</td>\n",
       "      <td>0</td>\n",
       "      <td>1</td>\n",
       "      <td>1/21/2021 0:00</td>\n",
       "      <td>NaN</td>\n",
       "      <td>8/18/2020 0:00</td>\n",
       "      <td>1</td>\n",
       "      <td>0</td>\n",
       "      <td>1</td>\n",
       "    </tr>\n",
       "    <tr>\n",
       "      <th>4098</th>\n",
       "      <td>8257384275</td>\n",
       "      <td>7</td>\n",
       "      <td>13</td>\n",
       "      <td>2</td>\n",
       "      <td>-2,441.89</td>\n",
       "      <td>3.7</td>\n",
       "      <td>46.6</td>\n",
       "      <td>0</td>\n",
       "      <td>0</td>\n",
       "      <td>1</td>\n",
       "      <td>NaN</td>\n",
       "      <td>NaN</td>\n",
       "      <td>9/20/2020 0:00</td>\n",
       "      <td>0</td>\n",
       "      <td>0</td>\n",
       "      <td>1</td>\n",
       "    </tr>\n",
       "    <tr>\n",
       "      <th>33777</th>\n",
       "      <td>7807754094</td>\n",
       "      <td>6</td>\n",
       "      <td>13</td>\n",
       "      <td>2</td>\n",
       "      <td>-945.39</td>\n",
       "      <td>7.3</td>\n",
       "      <td>44.0</td>\n",
       "      <td>0</td>\n",
       "      <td>1</td>\n",
       "      <td>1</td>\n",
       "      <td>NaN</td>\n",
       "      <td>NaN</td>\n",
       "      <td>1/8/2021 0:00</td>\n",
       "      <td>0</td>\n",
       "      <td>0</td>\n",
       "      <td>1</td>\n",
       "    </tr>\n",
       "  </tbody>\n",
       "</table>\n",
       "</div>"
      ],
      "text/plain": [
       "          part_id  fund_ct  logon_ct  call_ct   balance  tenure  age  gender  \\\n",
       "722    8777530917        6        12        2 -7,984.65     4.3 44.2       0   \n",
       "4098   8257384275        7        13        2 -2,441.89     3.7 46.6       0   \n",
       "33777  7807754094        6        13        2   -945.39     7.3 44.0       0   \n",
       "\n",
       "       status  campaign        click_dt bounce_dt         open_dt  \\\n",
       "722         0         1  1/21/2021 0:00       NaN  8/18/2020 0:00   \n",
       "4098        0         1             NaN       NaN  9/20/2020 0:00   \n",
       "33777       1         1             NaN       NaN   1/8/2021 0:00   \n",
       "\n",
       "       clicked_email  bounced_email  opened_email  \n",
       "722                1              0             1  \n",
       "4098               0              0             1  \n",
       "33777              0              0             1  "
      ]
     },
     "execution_count": 22,
     "metadata": {},
     "output_type": "execute_result"
    }
   ],
   "source": [
    "# let's look at the accounts with the negative balances\n",
    "df[df['balance'] < 0]"
   ]
  },
  {
   "cell_type": "markdown",
   "id": "165c8fce",
   "metadata": {},
   "source": [
    "Interestingly, these users do share a number of characteristics.  However, there isn't enough information here to tell us what to do with these negative values, so will leave them as is for now."
   ]
  },
  {
   "cell_type": "markdown",
   "id": "8b372f6c",
   "metadata": {},
   "source": [
    "Now let's look at the age feature."
   ]
  },
  {
   "cell_type": "code",
   "execution_count": 23,
   "id": "90adf0f6",
   "metadata": {},
   "outputs": [
    {
     "data": {
      "text/plain": [
       "''"
      ]
     },
     "execution_count": 23,
     "metadata": {},
     "output_type": "execute_result"
    },
    {
     "data": {
      "image/png": "[encoded data removed]",
      "text/plain": [
       "<Figure size 432x288 with 1 Axes>"
      ]
     },
     "metadata": {},
     "output_type": "display_data"
    }
   ],
   "source": [
    "sns.histplot(df['age'], bins=30)\n",
    ";"
   ]
  },
  {
   "cell_type": "code",
   "execution_count": 24,
   "id": "608ca1ce",
   "metadata": {},
   "outputs": [
    {
     "data": {
      "text/plain": [
       "count             41,767.0\n",
       "mean    44.999588191634686\n",
       "std      0.914382424920391\n",
       "min                   42.7\n",
       "25%                   44.3\n",
       "50%                   44.8\n",
       "75%                   45.7\n",
       "max                   48.9\n",
       "Name: age, dtype: float64"
      ]
     },
     "execution_count": 24,
     "metadata": {},
     "output_type": "execute_result"
    }
   ],
   "source": [
    "df.age.describe()"
   ]
  },
  {
   "cell_type": "markdown",
   "id": "22422e83",
   "metadata": {},
   "source": [
    "Observations:\n",
    "- The age of partipants has two peaks of concentration - one just above 44, and another right below 46.  There isn't anything to indicate we need to take action on this."
   ]
  },
  {
   "cell_type": "code",
   "execution_count": null,
   "id": "8f85f903",
   "metadata": {},
   "outputs": [],
   "source": []
  },
  {
   "cell_type": "markdown",
   "id": "78dcbb8d",
   "metadata": {},
   "source": [
    "Now let's look at the gender variable"
   ]
  },
  {
   "cell_type": "code",
   "execution_count": 25,
   "id": "573f8838",
   "metadata": {},
   "outputs": [
    {
     "data": {
      "text/plain": [
       "0    30378\n",
       "1    11388\n",
       "2        1\n",
       "Name: gender, dtype: int64"
      ]
     },
     "execution_count": 25,
     "metadata": {},
     "output_type": "execute_result"
    }
   ],
   "source": [
    "df.gender.value_counts()"
   ]
  },
  {
   "cell_type": "markdown",
   "id": "f9e07124",
   "metadata": {},
   "source": [
    "With approximately 3/4 of users being male (0), we can change the 2 to a male."
   ]
  },
  {
   "cell_type": "code",
   "execution_count": 26,
   "id": "9b12752b",
   "metadata": {},
   "outputs": [
    {
     "data": {
      "text/html": [
       "<div>\n",
       "<style scoped>\n",
       "    .dataframe tbody tr th:only-of-type {\n",
       "        vertical-align: middle;\n",
       "    }\n",
       "\n",
       "    .dataframe tbody tr th {\n",
       "        vertical-align: top;\n",
       "    }\n",
       "\n",
       "    .dataframe thead th {\n",
       "        text-align: right;\n",
       "    }\n",
       "</style>\n",
       "<table border=\"1\" class=\"dataframe\">\n",
       "  <thead>\n",
       "    <tr style=\"text-align: right;\">\n",
       "      <th></th>\n",
       "      <th>part_id</th>\n",
       "      <th>fund_ct</th>\n",
       "      <th>logon_ct</th>\n",
       "      <th>call_ct</th>\n",
       "      <th>balance</th>\n",
       "      <th>tenure</th>\n",
       "      <th>age</th>\n",
       "      <th>gender</th>\n",
       "      <th>status</th>\n",
       "      <th>campaign</th>\n",
       "      <th>click_dt</th>\n",
       "      <th>bounce_dt</th>\n",
       "      <th>open_dt</th>\n",
       "      <th>clicked_email</th>\n",
       "      <th>bounced_email</th>\n",
       "      <th>opened_email</th>\n",
       "    </tr>\n",
       "  </thead>\n",
       "  <tbody>\n",
       "    <tr>\n",
       "      <th>0</th>\n",
       "      <td>1054161513</td>\n",
       "      <td>6</td>\n",
       "      <td>11</td>\n",
       "      <td>1</td>\n",
       "      <td>70,377.57</td>\n",
       "      <td>6.0</td>\n",
       "      <td>44.2</td>\n",
       "      <td>0</td>\n",
       "      <td>0</td>\n",
       "      <td>0</td>\n",
       "      <td>NaN</td>\n",
       "      <td>NaN</td>\n",
       "      <td>NaN</td>\n",
       "      <td>0</td>\n",
       "      <td>0</td>\n",
       "      <td>0</td>\n",
       "    </tr>\n",
       "    <tr>\n",
       "      <th>1</th>\n",
       "      <td>5761909860</td>\n",
       "      <td>7</td>\n",
       "      <td>13</td>\n",
       "      <td>2</td>\n",
       "      <td>63,505.69</td>\n",
       "      <td>6.6</td>\n",
       "      <td>44.2</td>\n",
       "      <td>0</td>\n",
       "      <td>1</td>\n",
       "      <td>1</td>\n",
       "      <td>NaN</td>\n",
       "      <td>NaN</td>\n",
       "      <td>NaN</td>\n",
       "      <td>0</td>\n",
       "      <td>0</td>\n",
       "      <td>0</td>\n",
       "    </tr>\n",
       "    <tr>\n",
       "      <th>2</th>\n",
       "      <td>9130086586</td>\n",
       "      <td>6</td>\n",
       "      <td>13</td>\n",
       "      <td>2</td>\n",
       "      <td>55,933.94</td>\n",
       "      <td>5.9</td>\n",
       "      <td>43.7</td>\n",
       "      <td>1</td>\n",
       "      <td>0</td>\n",
       "      <td>1</td>\n",
       "      <td>NaN</td>\n",
       "      <td>NaN</td>\n",
       "      <td>NaN</td>\n",
       "      <td>0</td>\n",
       "      <td>0</td>\n",
       "      <td>0</td>\n",
       "    </tr>\n",
       "    <tr>\n",
       "      <th>3</th>\n",
       "      <td>5496433327</td>\n",
       "      <td>6</td>\n",
       "      <td>12</td>\n",
       "      <td>2</td>\n",
       "      <td>81,072.63</td>\n",
       "      <td>5.5</td>\n",
       "      <td>45.5</td>\n",
       "      <td>0</td>\n",
       "      <td>1</td>\n",
       "      <td>1</td>\n",
       "      <td>NaN</td>\n",
       "      <td>NaN</td>\n",
       "      <td>NaN</td>\n",
       "      <td>0</td>\n",
       "      <td>0</td>\n",
       "      <td>0</td>\n",
       "    </tr>\n",
       "    <tr>\n",
       "      <th>4</th>\n",
       "      <td>8917877079</td>\n",
       "      <td>8</td>\n",
       "      <td>12</td>\n",
       "      <td>0</td>\n",
       "      <td>87,534.41</td>\n",
       "      <td>3.8</td>\n",
       "      <td>45.3</td>\n",
       "      <td>1</td>\n",
       "      <td>0</td>\n",
       "      <td>0</td>\n",
       "      <td>NaN</td>\n",
       "      <td>NaN</td>\n",
       "      <td>12/14/2020 0:00</td>\n",
       "      <td>0</td>\n",
       "      <td>0</td>\n",
       "      <td>1</td>\n",
       "    </tr>\n",
       "    <tr>\n",
       "      <th>5</th>\n",
       "      <td>2290016446</td>\n",
       "      <td>8</td>\n",
       "      <td>13</td>\n",
       "      <td>0</td>\n",
       "      <td>58,230.81</td>\n",
       "      <td>7.7</td>\n",
       "      <td>46.9</td>\n",
       "      <td>1</td>\n",
       "      <td>1</td>\n",
       "      <td>0</td>\n",
       "      <td>NaN</td>\n",
       "      <td>NaN</td>\n",
       "      <td>NaN</td>\n",
       "      <td>0</td>\n",
       "      <td>0</td>\n",
       "      <td>0</td>\n",
       "    </tr>\n",
       "    <tr>\n",
       "      <th>6</th>\n",
       "      <td>2057483407</td>\n",
       "      <td>6</td>\n",
       "      <td>11</td>\n",
       "      <td>0</td>\n",
       "      <td>62,525.32</td>\n",
       "      <td>6.0</td>\n",
       "      <td>45.3</td>\n",
       "      <td>0</td>\n",
       "      <td>0</td>\n",
       "      <td>0</td>\n",
       "      <td>1/10/2021 0:00</td>\n",
       "      <td>NaN</td>\n",
       "      <td>12/16/2020 0:00</td>\n",
       "      <td>1</td>\n",
       "      <td>0</td>\n",
       "      <td>1</td>\n",
       "    </tr>\n",
       "    <tr>\n",
       "      <th>7</th>\n",
       "      <td>2589661237</td>\n",
       "      <td>6</td>\n",
       "      <td>12</td>\n",
       "      <td>0</td>\n",
       "      <td>62,312.19</td>\n",
       "      <td>6.7</td>\n",
       "      <td>44.2</td>\n",
       "      <td>0</td>\n",
       "      <td>0</td>\n",
       "      <td>0</td>\n",
       "      <td>NaN</td>\n",
       "      <td>NaN</td>\n",
       "      <td>NaN</td>\n",
       "      <td>0</td>\n",
       "      <td>0</td>\n",
       "      <td>0</td>\n",
       "    </tr>\n",
       "    <tr>\n",
       "      <th>8</th>\n",
       "      <td>7772898223</td>\n",
       "      <td>7</td>\n",
       "      <td>12</td>\n",
       "      <td>2</td>\n",
       "      <td>72,888.63</td>\n",
       "      <td>6.1</td>\n",
       "      <td>44.1</td>\n",
       "      <td>1</td>\n",
       "      <td>0</td>\n",
       "      <td>1</td>\n",
       "      <td>NaN</td>\n",
       "      <td>NaN</td>\n",
       "      <td>NaN</td>\n",
       "      <td>0</td>\n",
       "      <td>0</td>\n",
       "      <td>0</td>\n",
       "    </tr>\n",
       "    <tr>\n",
       "      <th>9</th>\n",
       "      <td>6396357382</td>\n",
       "      <td>6</td>\n",
       "      <td>12</td>\n",
       "      <td>2</td>\n",
       "      <td>40,425.5</td>\n",
       "      <td>7.2</td>\n",
       "      <td>44.4</td>\n",
       "      <td>0</td>\n",
       "      <td>0</td>\n",
       "      <td>1</td>\n",
       "      <td>NaN</td>\n",
       "      <td>NaN</td>\n",
       "      <td>NaN</td>\n",
       "      <td>0</td>\n",
       "      <td>0</td>\n",
       "      <td>0</td>\n",
       "    </tr>\n",
       "  </tbody>\n",
       "</table>\n",
       "</div>"
      ],
      "text/plain": [
       "      part_id  fund_ct  logon_ct  call_ct   balance  tenure  age  gender  \\\n",
       "0  1054161513        6        11        1 70,377.57     6.0 44.2       0   \n",
       "1  5761909860        7        13        2 63,505.69     6.6 44.2       0   \n",
       "2  9130086586        6        13        2 55,933.94     5.9 43.7       1   \n",
       "3  5496433327        6        12        2 81,072.63     5.5 45.5       0   \n",
       "4  8917877079        8        12        0 87,534.41     3.8 45.3       1   \n",
       "5  2290016446        8        13        0 58,230.81     7.7 46.9       1   \n",
       "6  2057483407        6        11        0 62,525.32     6.0 45.3       0   \n",
       "7  2589661237        6        12        0 62,312.19     6.7 44.2       0   \n",
       "8  7772898223        7        12        2 72,888.63     6.1 44.1       1   \n",
       "9  6396357382        6        12        2  40,425.5     7.2 44.4       0   \n",
       "\n",
       "   status  campaign        click_dt bounce_dt          open_dt  clicked_email  \\\n",
       "0       0         0             NaN       NaN              NaN              0   \n",
       "1       1         1             NaN       NaN              NaN              0   \n",
       "2       0         1             NaN       NaN              NaN              0   \n",
       "3       1         1             NaN       NaN              NaN              0   \n",
       "4       0         0             NaN       NaN  12/14/2020 0:00              0   \n",
       "5       1         0             NaN       NaN              NaN              0   \n",
       "6       0         0  1/10/2021 0:00       NaN  12/16/2020 0:00              1   \n",
       "7       0         0             NaN       NaN              NaN              0   \n",
       "8       0         1             NaN       NaN              NaN              0   \n",
       "9       0         1             NaN       NaN              NaN              0   \n",
       "\n",
       "   bounced_email  opened_email  \n",
       "0              0             0  \n",
       "1              0             0  \n",
       "2              0             0  \n",
       "3              0             0  \n",
       "4              0             1  \n",
       "5              0             0  \n",
       "6              0             1  \n",
       "7              0             0  \n",
       "8              0             0  \n",
       "9              0             0  "
      ]
     },
     "execution_count": 26,
     "metadata": {},
     "output_type": "execute_result"
    }
   ],
   "source": [
    "df.head(10)"
   ]
  },
  {
   "cell_type": "code",
   "execution_count": 27,
   "id": "d3bf253b",
   "metadata": {},
   "outputs": [],
   "source": [
    "df = df.replace({'gender' : {2 : 0}})"
   ]
  },
  {
   "cell_type": "code",
   "execution_count": 28,
   "id": "b09ff839",
   "metadata": {},
   "outputs": [
    {
     "data": {
      "text/plain": [
       "0    30379\n",
       "1    11388\n",
       "Name: gender, dtype: int64"
      ]
     },
     "execution_count": 28,
     "metadata": {},
     "output_type": "execute_result"
    }
   ],
   "source": [
    "df.gender.value_counts()"
   ]
  },
  {
   "cell_type": "code",
   "execution_count": null,
   "id": "33c0703e",
   "metadata": {},
   "outputs": [],
   "source": []
  },
  {
   "cell_type": "markdown",
   "id": "154f0661",
   "metadata": {},
   "source": [
    "Now let's look at status, particularly the observations with values of 2 and 3"
   ]
  },
  {
   "cell_type": "code",
   "execution_count": 29,
   "id": "47ca7db7",
   "metadata": {},
   "outputs": [
    {
     "data": {
      "text/plain": [
       "0    26260\n",
       "1    15496\n",
       "2       10\n",
       "3        1\n",
       "Name: status, dtype: int64"
      ]
     },
     "execution_count": 29,
     "metadata": {},
     "output_type": "execute_result"
    }
   ],
   "source": [
    "df.status.value_counts()"
   ]
  },
  {
   "cell_type": "code",
   "execution_count": 30,
   "id": "1a92846a",
   "metadata": {},
   "outputs": [
    {
     "data": {
      "text/html": [
       "<div>\n",
       "<style scoped>\n",
       "    .dataframe tbody tr th:only-of-type {\n",
       "        vertical-align: middle;\n",
       "    }\n",
       "\n",
       "    .dataframe tbody tr th {\n",
       "        vertical-align: top;\n",
       "    }\n",
       "\n",
       "    .dataframe thead th {\n",
       "        text-align: right;\n",
       "    }\n",
       "</style>\n",
       "<table border=\"1\" class=\"dataframe\">\n",
       "  <thead>\n",
       "    <tr style=\"text-align: right;\">\n",
       "      <th></th>\n",
       "      <th>part_id</th>\n",
       "      <th>fund_ct</th>\n",
       "      <th>logon_ct</th>\n",
       "      <th>call_ct</th>\n",
       "      <th>balance</th>\n",
       "      <th>tenure</th>\n",
       "      <th>age</th>\n",
       "      <th>gender</th>\n",
       "      <th>status</th>\n",
       "      <th>campaign</th>\n",
       "      <th>click_dt</th>\n",
       "      <th>bounce_dt</th>\n",
       "      <th>open_dt</th>\n",
       "      <th>clicked_email</th>\n",
       "      <th>bounced_email</th>\n",
       "      <th>opened_email</th>\n",
       "    </tr>\n",
       "  </thead>\n",
       "  <tbody>\n",
       "    <tr>\n",
       "      <th>152</th>\n",
       "      <td>7516850086</td>\n",
       "      <td>10</td>\n",
       "      <td>13</td>\n",
       "      <td>0</td>\n",
       "      <td>52,672.42</td>\n",
       "      <td>6.1</td>\n",
       "      <td>45.3</td>\n",
       "      <td>0</td>\n",
       "      <td>2</td>\n",
       "      <td>0</td>\n",
       "      <td>NaN</td>\n",
       "      <td>NaN</td>\n",
       "      <td>12/26/2020 0:00</td>\n",
       "      <td>0</td>\n",
       "      <td>0</td>\n",
       "      <td>1</td>\n",
       "    </tr>\n",
       "    <tr>\n",
       "      <th>6294</th>\n",
       "      <td>8240805802</td>\n",
       "      <td>10</td>\n",
       "      <td>14</td>\n",
       "      <td>0</td>\n",
       "      <td>49,208.07</td>\n",
       "      <td>5.8</td>\n",
       "      <td>45.6</td>\n",
       "      <td>1</td>\n",
       "      <td>2</td>\n",
       "      <td>0</td>\n",
       "      <td>NaN</td>\n",
       "      <td>NaN</td>\n",
       "      <td>NaN</td>\n",
       "      <td>0</td>\n",
       "      <td>0</td>\n",
       "      <td>0</td>\n",
       "    </tr>\n",
       "    <tr>\n",
       "      <th>10824</th>\n",
       "      <td>7003760182</td>\n",
       "      <td>10</td>\n",
       "      <td>14</td>\n",
       "      <td>2</td>\n",
       "      <td>67,210.19</td>\n",
       "      <td>4.9</td>\n",
       "      <td>45.9</td>\n",
       "      <td>0</td>\n",
       "      <td>2</td>\n",
       "      <td>1</td>\n",
       "      <td>NaN</td>\n",
       "      <td>NaN</td>\n",
       "      <td>8/31/2020 0:00</td>\n",
       "      <td>0</td>\n",
       "      <td>0</td>\n",
       "      <td>1</td>\n",
       "    </tr>\n",
       "    <tr>\n",
       "      <th>21308</th>\n",
       "      <td>19023600</td>\n",
       "      <td>12</td>\n",
       "      <td>14</td>\n",
       "      <td>2</td>\n",
       "      <td>68,743.13</td>\n",
       "      <td>3.8</td>\n",
       "      <td>45.2</td>\n",
       "      <td>0</td>\n",
       "      <td>3</td>\n",
       "      <td>1</td>\n",
       "      <td>NaN</td>\n",
       "      <td>NaN</td>\n",
       "      <td>NaN</td>\n",
       "      <td>0</td>\n",
       "      <td>0</td>\n",
       "      <td>0</td>\n",
       "    </tr>\n",
       "    <tr>\n",
       "      <th>22096</th>\n",
       "      <td>6171115134</td>\n",
       "      <td>10</td>\n",
       "      <td>14</td>\n",
       "      <td>2</td>\n",
       "      <td>55,415.72</td>\n",
       "      <td>4.9</td>\n",
       "      <td>45.5</td>\n",
       "      <td>0</td>\n",
       "      <td>2</td>\n",
       "      <td>1</td>\n",
       "      <td>NaN</td>\n",
       "      <td>NaN</td>\n",
       "      <td>NaN</td>\n",
       "      <td>0</td>\n",
       "      <td>0</td>\n",
       "      <td>0</td>\n",
       "    </tr>\n",
       "    <tr>\n",
       "      <th>23966</th>\n",
       "      <td>1308847735</td>\n",
       "      <td>10</td>\n",
       "      <td>11</td>\n",
       "      <td>0</td>\n",
       "      <td>50,525.16</td>\n",
       "      <td>6.2</td>\n",
       "      <td>44.6</td>\n",
       "      <td>1</td>\n",
       "      <td>2</td>\n",
       "      <td>0</td>\n",
       "      <td>NaN</td>\n",
       "      <td>NaN</td>\n",
       "      <td>10/8/2020 0:00</td>\n",
       "      <td>0</td>\n",
       "      <td>0</td>\n",
       "      <td>1</td>\n",
       "    </tr>\n",
       "    <tr>\n",
       "      <th>25393</th>\n",
       "      <td>2312010671</td>\n",
       "      <td>11</td>\n",
       "      <td>13</td>\n",
       "      <td>0</td>\n",
       "      <td>98,305.47</td>\n",
       "      <td>4.2</td>\n",
       "      <td>45.2</td>\n",
       "      <td>0</td>\n",
       "      <td>2</td>\n",
       "      <td>0</td>\n",
       "      <td>NaN</td>\n",
       "      <td>NaN</td>\n",
       "      <td>12/6/2020 0:00</td>\n",
       "      <td>0</td>\n",
       "      <td>0</td>\n",
       "      <td>1</td>\n",
       "    </tr>\n",
       "    <tr>\n",
       "      <th>29543</th>\n",
       "      <td>144075218</td>\n",
       "      <td>10</td>\n",
       "      <td>14</td>\n",
       "      <td>2</td>\n",
       "      <td>76,822.55</td>\n",
       "      <td>6.5</td>\n",
       "      <td>45.8</td>\n",
       "      <td>0</td>\n",
       "      <td>2</td>\n",
       "      <td>1</td>\n",
       "      <td>NaN</td>\n",
       "      <td>NaN</td>\n",
       "      <td>NaN</td>\n",
       "      <td>0</td>\n",
       "      <td>0</td>\n",
       "      <td>0</td>\n",
       "    </tr>\n",
       "    <tr>\n",
       "      <th>32253</th>\n",
       "      <td>7368219117</td>\n",
       "      <td>10</td>\n",
       "      <td>13</td>\n",
       "      <td>2</td>\n",
       "      <td>74,100.24</td>\n",
       "      <td>6.3</td>\n",
       "      <td>45.4</td>\n",
       "      <td>0</td>\n",
       "      <td>2</td>\n",
       "      <td>1</td>\n",
       "      <td>NaN</td>\n",
       "      <td>NaN</td>\n",
       "      <td>NaN</td>\n",
       "      <td>0</td>\n",
       "      <td>0</td>\n",
       "      <td>0</td>\n",
       "    </tr>\n",
       "    <tr>\n",
       "      <th>32660</th>\n",
       "      <td>951702405</td>\n",
       "      <td>10</td>\n",
       "      <td>14</td>\n",
       "      <td>0</td>\n",
       "      <td>53,451.75</td>\n",
       "      <td>6.5</td>\n",
       "      <td>45.8</td>\n",
       "      <td>0</td>\n",
       "      <td>2</td>\n",
       "      <td>0</td>\n",
       "      <td>NaN</td>\n",
       "      <td>NaN</td>\n",
       "      <td>NaN</td>\n",
       "      <td>0</td>\n",
       "      <td>0</td>\n",
       "      <td>0</td>\n",
       "    </tr>\n",
       "    <tr>\n",
       "      <th>33344</th>\n",
       "      <td>7399307482</td>\n",
       "      <td>10</td>\n",
       "      <td>13</td>\n",
       "      <td>2</td>\n",
       "      <td>52,418.29</td>\n",
       "      <td>7.1</td>\n",
       "      <td>45.2</td>\n",
       "      <td>0</td>\n",
       "      <td>2</td>\n",
       "      <td>1</td>\n",
       "      <td>1/27/2021 0:00</td>\n",
       "      <td>NaN</td>\n",
       "      <td>9/13/2020 0:00</td>\n",
       "      <td>1</td>\n",
       "      <td>0</td>\n",
       "      <td>1</td>\n",
       "    </tr>\n",
       "  </tbody>\n",
       "</table>\n",
       "</div>"
      ],
      "text/plain": [
       "          part_id  fund_ct  logon_ct  call_ct   balance  tenure  age  gender  \\\n",
       "152    7516850086       10        13        0 52,672.42     6.1 45.3       0   \n",
       "6294   8240805802       10        14        0 49,208.07     5.8 45.6       1   \n",
       "10824  7003760182       10        14        2 67,210.19     4.9 45.9       0   \n",
       "21308    19023600       12        14        2 68,743.13     3.8 45.2       0   \n",
       "22096  6171115134       10        14        2 55,415.72     4.9 45.5       0   \n",
       "23966  1308847735       10        11        0 50,525.16     6.2 44.6       1   \n",
       "25393  2312010671       11        13        0 98,305.47     4.2 45.2       0   \n",
       "29543   144075218       10        14        2 76,822.55     6.5 45.8       0   \n",
       "32253  7368219117       10        13        2 74,100.24     6.3 45.4       0   \n",
       "32660   951702405       10        14        0 53,451.75     6.5 45.8       0   \n",
       "33344  7399307482       10        13        2 52,418.29     7.1 45.2       0   \n",
       "\n",
       "       status  campaign        click_dt bounce_dt          open_dt  \\\n",
       "152         2         0             NaN       NaN  12/26/2020 0:00   \n",
       "6294        2         0             NaN       NaN              NaN   \n",
       "10824       2         1             NaN       NaN   8/31/2020 0:00   \n",
       "21308       3         1             NaN       NaN              NaN   \n",
       "22096       2         1             NaN       NaN              NaN   \n",
       "23966       2         0             NaN       NaN   10/8/2020 0:00   \n",
       "25393       2         0             NaN       NaN   12/6/2020 0:00   \n",
       "29543       2         1             NaN       NaN              NaN   \n",
       "32253       2         1             NaN       NaN              NaN   \n",
       "32660       2         0             NaN       NaN              NaN   \n",
       "33344       2         1  1/27/2021 0:00       NaN   9/13/2020 0:00   \n",
       "\n",
       "       clicked_email  bounced_email  opened_email  \n",
       "152                0              0             1  \n",
       "6294               0              0             0  \n",
       "10824              0              0             1  \n",
       "21308              0              0             0  \n",
       "22096              0              0             0  \n",
       "23966              0              0             1  \n",
       "25393              0              0             1  \n",
       "29543              0              0             0  \n",
       "32253              0              0             0  \n",
       "32660              0              0             0  \n",
       "33344              1              0             1  "
      ]
     },
     "execution_count": 30,
     "metadata": {},
     "output_type": "execute_result"
    }
   ],
   "source": [
    "df[df['status'] > 1]"
   ]
  },
  {
   "cell_type": "code",
   "execution_count": 31,
   "id": "18b3ab19",
   "metadata": {},
   "outputs": [
    {
     "data": {
      "text/html": [
       "<div>\n",
       "<style scoped>\n",
       "    .dataframe tbody tr th:only-of-type {\n",
       "        vertical-align: middle;\n",
       "    }\n",
       "\n",
       "    .dataframe tbody tr th {\n",
       "        vertical-align: top;\n",
       "    }\n",
       "\n",
       "    .dataframe thead th {\n",
       "        text-align: right;\n",
       "    }\n",
       "</style>\n",
       "<table border=\"1\" class=\"dataframe\">\n",
       "  <thead>\n",
       "    <tr style=\"text-align: right;\">\n",
       "      <th></th>\n",
       "      <th>part_id</th>\n",
       "      <th>fund_ct</th>\n",
       "      <th>logon_ct</th>\n",
       "      <th>call_ct</th>\n",
       "      <th>balance</th>\n",
       "      <th>tenure</th>\n",
       "      <th>age</th>\n",
       "      <th>gender</th>\n",
       "      <th>status</th>\n",
       "      <th>campaign</th>\n",
       "      <th>clicked_email</th>\n",
       "      <th>bounced_email</th>\n",
       "      <th>opened_email</th>\n",
       "    </tr>\n",
       "  </thead>\n",
       "  <tbody>\n",
       "    <tr>\n",
       "      <th>count</th>\n",
       "      <td>11.0</td>\n",
       "      <td>11.0</td>\n",
       "      <td>11.0</td>\n",
       "      <td>11.0</td>\n",
       "      <td>11.0</td>\n",
       "      <td>11.0</td>\n",
       "      <td>11.0</td>\n",
       "      <td>11.0</td>\n",
       "      <td>11.0</td>\n",
       "      <td>11.0</td>\n",
       "      <td>11.0</td>\n",
       "      <td>11.0</td>\n",
       "      <td>11.0</td>\n",
       "    </tr>\n",
       "    <tr>\n",
       "      <th>mean</th>\n",
       "      <td>4,403,247,039.272727</td>\n",
       "      <td>10.272727272727273</td>\n",
       "      <td>13.363636363636363</td>\n",
       "      <td>1.0909090909090908</td>\n",
       "      <td>63,533.908181818195</td>\n",
       "      <td>5.663636363636363</td>\n",
       "      <td>45.40909090909091</td>\n",
       "      <td>0.18181818181818182</td>\n",
       "      <td>2.090909090909091</td>\n",
       "      <td>0.5454545454545454</td>\n",
       "      <td>0.09090909090909091</td>\n",
       "      <td>0.0</td>\n",
       "      <td>0.45454545454545453</td>\n",
       "    </tr>\n",
       "    <tr>\n",
       "      <th>std</th>\n",
       "      <td>3,395,593,346.195074</td>\n",
       "      <td>0.6466697906828633</td>\n",
       "      <td>0.9244162777371754</td>\n",
       "      <td>1.044465935734187</td>\n",
       "      <td>15,236.432901480464</td>\n",
       "      <td>1.0557203486461053</td>\n",
       "      <td>0.3727050991187132</td>\n",
       "      <td>0.4045199174779452</td>\n",
       "      <td>0.30151134457776363</td>\n",
       "      <td>0.5222329678670935</td>\n",
       "      <td>0.30151134457776363</td>\n",
       "      <td>0.0</td>\n",
       "      <td>0.5222329678670934</td>\n",
       "    </tr>\n",
       "    <tr>\n",
       "      <th>min</th>\n",
       "      <td>19,023,600.0</td>\n",
       "      <td>10.0</td>\n",
       "      <td>11.0</td>\n",
       "      <td>0.0</td>\n",
       "      <td>49,208.07</td>\n",
       "      <td>3.8</td>\n",
       "      <td>44.6</td>\n",
       "      <td>0.0</td>\n",
       "      <td>2.0</td>\n",
       "      <td>0.0</td>\n",
       "      <td>0.0</td>\n",
       "      <td>0.0</td>\n",
       "      <td>0.0</td>\n",
       "    </tr>\n",
       "    <tr>\n",
       "      <th>25%</th>\n",
       "      <td>1,130,275,070.0</td>\n",
       "      <td>10.0</td>\n",
       "      <td>13.0</td>\n",
       "      <td>0.0</td>\n",
       "      <td>52,545.354999999996</td>\n",
       "      <td>4.9</td>\n",
       "      <td>45.2</td>\n",
       "      <td>0.0</td>\n",
       "      <td>2.0</td>\n",
       "      <td>0.0</td>\n",
       "      <td>0.0</td>\n",
       "      <td>0.0</td>\n",
       "      <td>0.0</td>\n",
       "    </tr>\n",
       "    <tr>\n",
       "      <th>50%</th>\n",
       "      <td>6,171,115,134.0</td>\n",
       "      <td>10.0</td>\n",
       "      <td>14.0</td>\n",
       "      <td>2.0</td>\n",
       "      <td>55,415.72</td>\n",
       "      <td>6.1</td>\n",
       "      <td>45.4</td>\n",
       "      <td>0.0</td>\n",
       "      <td>2.0</td>\n",
       "      <td>1.0</td>\n",
       "      <td>0.0</td>\n",
       "      <td>0.0</td>\n",
       "      <td>0.0</td>\n",
       "    </tr>\n",
       "    <tr>\n",
       "      <th>75%</th>\n",
       "      <td>7,383,763,299.5</td>\n",
       "      <td>10.0</td>\n",
       "      <td>14.0</td>\n",
       "      <td>2.0</td>\n",
       "      <td>71,421.685</td>\n",
       "      <td>6.4</td>\n",
       "      <td>45.7</td>\n",
       "      <td>0.0</td>\n",
       "      <td>2.0</td>\n",
       "      <td>1.0</td>\n",
       "      <td>0.0</td>\n",
       "      <td>0.0</td>\n",
       "      <td>1.0</td>\n",
       "    </tr>\n",
       "    <tr>\n",
       "      <th>max</th>\n",
       "      <td>8,240,805,802.0</td>\n",
       "      <td>12.0</td>\n",
       "      <td>14.0</td>\n",
       "      <td>2.0</td>\n",
       "      <td>98,305.47</td>\n",
       "      <td>7.1</td>\n",
       "      <td>45.9</td>\n",
       "      <td>1.0</td>\n",
       "      <td>3.0</td>\n",
       "      <td>1.0</td>\n",
       "      <td>1.0</td>\n",
       "      <td>0.0</td>\n",
       "      <td>1.0</td>\n",
       "    </tr>\n",
       "  </tbody>\n",
       "</table>\n",
       "</div>"
      ],
      "text/plain": [
       "                   part_id            fund_ct           logon_ct  \\\n",
       "count                 11.0               11.0               11.0   \n",
       "mean  4,403,247,039.272727 10.272727272727273 13.363636363636363   \n",
       "std   3,395,593,346.195074 0.6466697906828633 0.9244162777371754   \n",
       "min           19,023,600.0               10.0               11.0   \n",
       "25%        1,130,275,070.0               10.0               13.0   \n",
       "50%        6,171,115,134.0               10.0               14.0   \n",
       "75%        7,383,763,299.5               10.0               14.0   \n",
       "max        8,240,805,802.0               12.0               14.0   \n",
       "\n",
       "                 call_ct             balance             tenure  \\\n",
       "count               11.0                11.0               11.0   \n",
       "mean  1.0909090909090908 63,533.908181818195  5.663636363636363   \n",
       "std    1.044465935734187 15,236.432901480464 1.0557203486461053   \n",
       "min                  0.0           49,208.07                3.8   \n",
       "25%                  0.0 52,545.354999999996                4.9   \n",
       "50%                  2.0           55,415.72                6.1   \n",
       "75%                  2.0          71,421.685                6.4   \n",
       "max                  2.0           98,305.47                7.1   \n",
       "\n",
       "                     age              gender              status  \\\n",
       "count               11.0                11.0                11.0   \n",
       "mean   45.40909090909091 0.18181818181818182   2.090909090909091   \n",
       "std   0.3727050991187132  0.4045199174779452 0.30151134457776363   \n",
       "min                 44.6                 0.0                 2.0   \n",
       "25%                 45.2                 0.0                 2.0   \n",
       "50%                 45.4                 0.0                 2.0   \n",
       "75%                 45.7                 0.0                 2.0   \n",
       "max                 45.9                 1.0                 3.0   \n",
       "\n",
       "                campaign       clicked_email  bounced_email  \\\n",
       "count               11.0                11.0           11.0   \n",
       "mean  0.5454545454545454 0.09090909090909091            0.0   \n",
       "std   0.5222329678670935 0.30151134457776363            0.0   \n",
       "min                  0.0                 0.0            0.0   \n",
       "25%                  0.0                 0.0            0.0   \n",
       "50%                  1.0                 0.0            0.0   \n",
       "75%                  1.0                 0.0            0.0   \n",
       "max                  1.0                 1.0            0.0   \n",
       "\n",
       "             opened_email  \n",
       "count                11.0  \n",
       "mean  0.45454545454545453  \n",
       "std    0.5222329678670934  \n",
       "min                   0.0  \n",
       "25%                   0.0  \n",
       "50%                   0.0  \n",
       "75%                   1.0  \n",
       "max                   1.0  "
      ]
     },
     "execution_count": 31,
     "metadata": {},
     "output_type": "execute_result"
    }
   ],
   "source": [
    "df[df['status'] > 1].describe()"
   ]
  },
  {
   "cell_type": "code",
   "execution_count": 32,
   "id": "e5cec7df",
   "metadata": {
    "scrolled": true
   },
   "outputs": [
    {
     "data": {
      "text/html": [
       "<div>\n",
       "<style scoped>\n",
       "    .dataframe tbody tr th:only-of-type {\n",
       "        vertical-align: middle;\n",
       "    }\n",
       "\n",
       "    .dataframe tbody tr th {\n",
       "        vertical-align: top;\n",
       "    }\n",
       "\n",
       "    .dataframe thead th {\n",
       "        text-align: right;\n",
       "    }\n",
       "</style>\n",
       "<table border=\"1\" class=\"dataframe\">\n",
       "  <thead>\n",
       "    <tr style=\"text-align: right;\">\n",
       "      <th></th>\n",
       "      <th>part_id</th>\n",
       "      <th>fund_ct</th>\n",
       "      <th>logon_ct</th>\n",
       "      <th>call_ct</th>\n",
       "      <th>balance</th>\n",
       "      <th>tenure</th>\n",
       "      <th>age</th>\n",
       "      <th>gender</th>\n",
       "      <th>status</th>\n",
       "      <th>campaign</th>\n",
       "      <th>clicked_email</th>\n",
       "      <th>bounced_email</th>\n",
       "      <th>opened_email</th>\n",
       "    </tr>\n",
       "  </thead>\n",
       "  <tbody>\n",
       "    <tr>\n",
       "      <th>count</th>\n",
       "      <td>15,496.0</td>\n",
       "      <td>15,496.0</td>\n",
       "      <td>15,496.0</td>\n",
       "      <td>15,496.0</td>\n",
       "      <td>15,496.0</td>\n",
       "      <td>15,496.0</td>\n",
       "      <td>15,496.0</td>\n",
       "      <td>15,496.0</td>\n",
       "      <td>15,496.0</td>\n",
       "      <td>15,496.0</td>\n",
       "      <td>15,496.0</td>\n",
       "      <td>15,496.0</td>\n",
       "      <td>15,496.0</td>\n",
       "    </tr>\n",
       "    <tr>\n",
       "      <th>mean</th>\n",
       "      <td>4,991,290,184.14978</td>\n",
       "      <td>6.63093701600413</td>\n",
       "      <td>12.093443469282395</td>\n",
       "      <td>1.1509421786267424</td>\n",
       "      <td>60,012.99096992763</td>\n",
       "      <td>6.0178239545688905</td>\n",
       "      <td>45.03008518327333</td>\n",
       "      <td>0.27219927723283427</td>\n",
       "      <td>1.0</td>\n",
       "      <td>0.7379969024264327</td>\n",
       "      <td>0.25761486835312336</td>\n",
       "      <td>0.0</td>\n",
       "      <td>0.5097444501806918</td>\n",
       "    </tr>\n",
       "    <tr>\n",
       "      <th>std</th>\n",
       "      <td>2,884,583,120.023159</td>\n",
       "      <td>0.6397769453654293</td>\n",
       "      <td>0.9883050851669655</td>\n",
       "      <td>1.0546213928688917</td>\n",
       "      <td>15,045.663538693912</td>\n",
       "      <td>1.0039912933799857</td>\n",
       "      <td>0.8074209810837794</td>\n",
       "      <td>0.44510629732335755</td>\n",
       "      <td>0.0</td>\n",
       "      <td>0.6386632651892241</td>\n",
       "      <td>0.4373348723942828</td>\n",
       "      <td>0.0</td>\n",
       "      <td>0.4999211675849427</td>\n",
       "    </tr>\n",
       "    <tr>\n",
       "      <th>min</th>\n",
       "      <td>550,202.0</td>\n",
       "      <td>5.0</td>\n",
       "      <td>10.0</td>\n",
       "      <td>0.0</td>\n",
       "      <td>-945.39</td>\n",
       "      <td>1.7</td>\n",
       "      <td>43.1</td>\n",
       "      <td>0.0</td>\n",
       "      <td>1.0</td>\n",
       "      <td>0.0</td>\n",
       "      <td>0.0</td>\n",
       "      <td>0.0</td>\n",
       "      <td>0.0</td>\n",
       "    </tr>\n",
       "    <tr>\n",
       "      <th>25%</th>\n",
       "      <td>2,498,054,410.0</td>\n",
       "      <td>6.0</td>\n",
       "      <td>12.0</td>\n",
       "      <td>0.0</td>\n",
       "      <td>49,795.72</td>\n",
       "      <td>5.3</td>\n",
       "      <td>44.4</td>\n",
       "      <td>0.0</td>\n",
       "      <td>1.0</td>\n",
       "      <td>0.0</td>\n",
       "      <td>0.0</td>\n",
       "      <td>0.0</td>\n",
       "      <td>0.0</td>\n",
       "    </tr>\n",
       "    <tr>\n",
       "      <th>50%</th>\n",
       "      <td>5,038,538,169.0</td>\n",
       "      <td>7.0</td>\n",
       "      <td>12.0</td>\n",
       "      <td>2.0</td>\n",
       "      <td>59,976.575</td>\n",
       "      <td>6.0</td>\n",
       "      <td>44.8</td>\n",
       "      <td>0.0</td>\n",
       "      <td>1.0</td>\n",
       "      <td>1.0</td>\n",
       "      <td>0.0</td>\n",
       "      <td>0.0</td>\n",
       "      <td>1.0</td>\n",
       "    </tr>\n",
       "    <tr>\n",
       "      <th>75%</th>\n",
       "      <td>7,490,526,567.25</td>\n",
       "      <td>7.0</td>\n",
       "      <td>13.0</td>\n",
       "      <td>2.0</td>\n",
       "      <td>70,115.36499999999</td>\n",
       "      <td>6.7</td>\n",
       "      <td>45.6</td>\n",
       "      <td>1.0</td>\n",
       "      <td>1.0</td>\n",
       "      <td>1.0</td>\n",
       "      <td>1.0</td>\n",
       "      <td>0.0</td>\n",
       "      <td>1.0</td>\n",
       "    </tr>\n",
       "    <tr>\n",
       "      <th>max</th>\n",
       "      <td>9,999,917,951.0</td>\n",
       "      <td>10.0</td>\n",
       "      <td>17.0</td>\n",
       "      <td>5.0</td>\n",
       "      <td>119,740.24</td>\n",
       "      <td>10.0</td>\n",
       "      <td>48.4</td>\n",
       "      <td>1.0</td>\n",
       "      <td>1.0</td>\n",
       "      <td>2.0</td>\n",
       "      <td>1.0</td>\n",
       "      <td>0.0</td>\n",
       "      <td>1.0</td>\n",
       "    </tr>\n",
       "  </tbody>\n",
       "</table>\n",
       "</div>"
      ],
      "text/plain": [
       "                   part_id            fund_ct           logon_ct  \\\n",
       "count             15,496.0           15,496.0           15,496.0   \n",
       "mean   4,991,290,184.14978   6.63093701600413 12.093443469282395   \n",
       "std   2,884,583,120.023159 0.6397769453654293 0.9883050851669655   \n",
       "min              550,202.0                5.0               10.0   \n",
       "25%        2,498,054,410.0                6.0               12.0   \n",
       "50%        5,038,538,169.0                7.0               12.0   \n",
       "75%       7,490,526,567.25                7.0               13.0   \n",
       "max        9,999,917,951.0               10.0               17.0   \n",
       "\n",
       "                 call_ct             balance             tenure  \\\n",
       "count           15,496.0            15,496.0           15,496.0   \n",
       "mean  1.1509421786267424  60,012.99096992763 6.0178239545688905   \n",
       "std   1.0546213928688917 15,045.663538693912 1.0039912933799857   \n",
       "min                  0.0             -945.39                1.7   \n",
       "25%                  0.0           49,795.72                5.3   \n",
       "50%                  2.0          59,976.575                6.0   \n",
       "75%                  2.0  70,115.36499999999                6.7   \n",
       "max                  5.0          119,740.24               10.0   \n",
       "\n",
       "                     age              gender   status           campaign  \\\n",
       "count           15,496.0            15,496.0 15,496.0           15,496.0   \n",
       "mean   45.03008518327333 0.27219927723283427      1.0 0.7379969024264327   \n",
       "std   0.8074209810837794 0.44510629732335755      0.0 0.6386632651892241   \n",
       "min                 43.1                 0.0      1.0                0.0   \n",
       "25%                 44.4                 0.0      1.0                0.0   \n",
       "50%                 44.8                 0.0      1.0                1.0   \n",
       "75%                 45.6                 1.0      1.0                1.0   \n",
       "max                 48.4                 1.0      1.0                2.0   \n",
       "\n",
       "            clicked_email  bounced_email       opened_email  \n",
       "count            15,496.0       15,496.0           15,496.0  \n",
       "mean  0.25761486835312336            0.0 0.5097444501806918  \n",
       "std    0.4373348723942828            0.0 0.4999211675849427  \n",
       "min                   0.0            0.0                0.0  \n",
       "25%                   0.0            0.0                0.0  \n",
       "50%                   0.0            0.0                1.0  \n",
       "75%                   1.0            0.0                1.0  \n",
       "max                   1.0            0.0                1.0  "
      ]
     },
     "execution_count": 32,
     "metadata": {},
     "output_type": "execute_result"
    }
   ],
   "source": [
    "df[df['status'] == 1].describe()"
   ]
  },
  {
   "cell_type": "code",
   "execution_count": 33,
   "id": "60182dd2",
   "metadata": {},
   "outputs": [
    {
     "data": {
      "text/html": [
       "<div>\n",
       "<style scoped>\n",
       "    .dataframe tbody tr th:only-of-type {\n",
       "        vertical-align: middle;\n",
       "    }\n",
       "\n",
       "    .dataframe tbody tr th {\n",
       "        vertical-align: top;\n",
       "    }\n",
       "\n",
       "    .dataframe thead th {\n",
       "        text-align: right;\n",
       "    }\n",
       "</style>\n",
       "<table border=\"1\" class=\"dataframe\">\n",
       "  <thead>\n",
       "    <tr style=\"text-align: right;\">\n",
       "      <th></th>\n",
       "      <th>part_id</th>\n",
       "      <th>fund_ct</th>\n",
       "      <th>logon_ct</th>\n",
       "      <th>call_ct</th>\n",
       "      <th>balance</th>\n",
       "      <th>tenure</th>\n",
       "      <th>age</th>\n",
       "      <th>gender</th>\n",
       "      <th>status</th>\n",
       "      <th>campaign</th>\n",
       "      <th>clicked_email</th>\n",
       "      <th>bounced_email</th>\n",
       "      <th>opened_email</th>\n",
       "    </tr>\n",
       "  </thead>\n",
       "  <tbody>\n",
       "    <tr>\n",
       "      <th>count</th>\n",
       "      <td>26,260.0</td>\n",
       "      <td>26,260.0</td>\n",
       "      <td>26,260.0</td>\n",
       "      <td>26,260.0</td>\n",
       "      <td>26,260.0</td>\n",
       "      <td>26,260.0</td>\n",
       "      <td>26,260.0</td>\n",
       "      <td>26,260.0</td>\n",
       "      <td>26,260.0</td>\n",
       "      <td>26,260.0</td>\n",
       "      <td>26,260.0</td>\n",
       "      <td>26,260.0</td>\n",
       "      <td>26,260.0</td>\n",
       "    </tr>\n",
       "    <tr>\n",
       "      <th>mean</th>\n",
       "      <td>5,004,679,289.190137</td>\n",
       "      <td>6.089489718202589</td>\n",
       "      <td>12.00997715156131</td>\n",
       "      <td>1.145049504950495</td>\n",
       "      <td>60,064.252072733674</td>\n",
       "      <td>6.000936785986293</td>\n",
       "      <td>44.98142041127213</td>\n",
       "      <td>0.272962680883473</td>\n",
       "      <td>0.0</td>\n",
       "      <td>0.7347677075399848</td>\n",
       "      <td>0.24805788271134807</td>\n",
       "      <td>0.0011805026656511806</td>\n",
       "      <td>0.4994668697638995</td>\n",
       "    </tr>\n",
       "    <tr>\n",
       "      <th>std</th>\n",
       "      <td>2,893,334,826.4427896</td>\n",
       "      <td>0.7369127828004118</td>\n",
       "      <td>1.1470134341876108</td>\n",
       "      <td>1.0530775883136307</td>\n",
       "      <td>15,023.436425155984</td>\n",
       "      <td>0.9999630016207123</td>\n",
       "      <td>0.9716732290012007</td>\n",
       "      <td>0.4454903066192829</td>\n",
       "      <td>0.0</td>\n",
       "      <td>0.6392846871253235</td>\n",
       "      <td>0.4318938212356549</td>\n",
       "      <td>0.034338811600776495</td>\n",
       "      <td>0.5000092362213832</td>\n",
       "    </tr>\n",
       "    <tr>\n",
       "      <th>min</th>\n",
       "      <td>133,214.0</td>\n",
       "      <td>5.0</td>\n",
       "      <td>10.0</td>\n",
       "      <td>0.0</td>\n",
       "      <td>-7,984.65</td>\n",
       "      <td>1.9</td>\n",
       "      <td>42.7</td>\n",
       "      <td>0.0</td>\n",
       "      <td>0.0</td>\n",
       "      <td>0.0</td>\n",
       "      <td>0.0</td>\n",
       "      <td>0.0</td>\n",
       "      <td>0.0</td>\n",
       "    </tr>\n",
       "    <tr>\n",
       "      <th>25%</th>\n",
       "      <td>2,519,329,786.5</td>\n",
       "      <td>6.0</td>\n",
       "      <td>11.0</td>\n",
       "      <td>0.0</td>\n",
       "      <td>49,934.8775</td>\n",
       "      <td>5.3</td>\n",
       "      <td>44.1</td>\n",
       "      <td>0.0</td>\n",
       "      <td>0.0</td>\n",
       "      <td>0.0</td>\n",
       "      <td>0.0</td>\n",
       "      <td>0.0</td>\n",
       "      <td>0.0</td>\n",
       "    </tr>\n",
       "    <tr>\n",
       "      <th>50%</th>\n",
       "      <td>4,993,191,301.5</td>\n",
       "      <td>6.0</td>\n",
       "      <td>12.0</td>\n",
       "      <td>2.0</td>\n",
       "      <td>60,075.815</td>\n",
       "      <td>6.0</td>\n",
       "      <td>44.9</td>\n",
       "      <td>0.0</td>\n",
       "      <td>0.0</td>\n",
       "      <td>1.0</td>\n",
       "      <td>0.0</td>\n",
       "      <td>0.0</td>\n",
       "      <td>0.0</td>\n",
       "    </tr>\n",
       "    <tr>\n",
       "      <th>75%</th>\n",
       "      <td>7,517,883,960.0</td>\n",
       "      <td>6.0</td>\n",
       "      <td>13.0</td>\n",
       "      <td>2.0</td>\n",
       "      <td>70,163.63</td>\n",
       "      <td>6.7</td>\n",
       "      <td>45.7</td>\n",
       "      <td>1.0</td>\n",
       "      <td>0.0</td>\n",
       "      <td>1.0</td>\n",
       "      <td>0.0</td>\n",
       "      <td>0.0</td>\n",
       "      <td>1.0</td>\n",
       "    </tr>\n",
       "    <tr>\n",
       "      <th>max</th>\n",
       "      <td>9,999,846,884.0</td>\n",
       "      <td>10.0</td>\n",
       "      <td>19.0</td>\n",
       "      <td>5.0</td>\n",
       "      <td>126,301.31</td>\n",
       "      <td>10.0</td>\n",
       "      <td>48.9</td>\n",
       "      <td>1.0</td>\n",
       "      <td>0.0</td>\n",
       "      <td>2.0</td>\n",
       "      <td>1.0</td>\n",
       "      <td>1.0</td>\n",
       "      <td>1.0</td>\n",
       "    </tr>\n",
       "  </tbody>\n",
       "</table>\n",
       "</div>"
      ],
      "text/plain": [
       "                    part_id            fund_ct           logon_ct  \\\n",
       "count              26,260.0           26,260.0           26,260.0   \n",
       "mean   5,004,679,289.190137  6.089489718202589  12.00997715156131   \n",
       "std   2,893,334,826.4427896 0.7369127828004118 1.1470134341876108   \n",
       "min               133,214.0                5.0               10.0   \n",
       "25%         2,519,329,786.5                6.0               11.0   \n",
       "50%         4,993,191,301.5                6.0               12.0   \n",
       "75%         7,517,883,960.0                6.0               13.0   \n",
       "max         9,999,846,884.0               10.0               19.0   \n",
       "\n",
       "                 call_ct             balance             tenure  \\\n",
       "count           26,260.0            26,260.0           26,260.0   \n",
       "mean   1.145049504950495 60,064.252072733674  6.000936785986293   \n",
       "std   1.0530775883136307 15,023.436425155984 0.9999630016207123   \n",
       "min                  0.0           -7,984.65                1.9   \n",
       "25%                  0.0         49,934.8775                5.3   \n",
       "50%                  2.0          60,075.815                6.0   \n",
       "75%                  2.0           70,163.63                6.7   \n",
       "max                  5.0          126,301.31               10.0   \n",
       "\n",
       "                     age             gender   status           campaign  \\\n",
       "count           26,260.0           26,260.0 26,260.0           26,260.0   \n",
       "mean   44.98142041127213  0.272962680883473      0.0 0.7347677075399848   \n",
       "std   0.9716732290012007 0.4454903066192829      0.0 0.6392846871253235   \n",
       "min                 42.7                0.0      0.0                0.0   \n",
       "25%                 44.1                0.0      0.0                0.0   \n",
       "50%                 44.9                0.0      0.0                1.0   \n",
       "75%                 45.7                1.0      0.0                1.0   \n",
       "max                 48.9                1.0      0.0                2.0   \n",
       "\n",
       "            clicked_email         bounced_email       opened_email  \n",
       "count            26,260.0              26,260.0           26,260.0  \n",
       "mean  0.24805788271134807 0.0011805026656511806 0.4994668697638995  \n",
       "std    0.4318938212356549  0.034338811600776495 0.5000092362213832  \n",
       "min                   0.0                   0.0                0.0  \n",
       "25%                   0.0                   0.0                0.0  \n",
       "50%                   0.0                   0.0                0.0  \n",
       "75%                   0.0                   0.0                1.0  \n",
       "max                   1.0                   1.0                1.0  "
      ]
     },
     "execution_count": 33,
     "metadata": {},
     "output_type": "execute_result"
    }
   ],
   "source": [
    "df[df['status'] == 0].describe()"
   ]
  },
  {
   "cell_type": "markdown",
   "id": "d77732f4",
   "metadata": {},
   "source": [
    "There doesn't appear to be any strong evidence to assign the observations in question to be either 0 or 1, so I will make them zeroes, since that represents about two-thirds of the values."
   ]
  },
  {
   "cell_type": "code",
   "execution_count": 34,
   "id": "7bc12baf",
   "metadata": {},
   "outputs": [],
   "source": [
    "df = df.replace({'status' : {2 : 0, 3 : 0}})"
   ]
  },
  {
   "cell_type": "code",
   "execution_count": 35,
   "id": "bd2d8170",
   "metadata": {},
   "outputs": [
    {
     "data": {
      "text/plain": [
       "0    26271\n",
       "1    15496\n",
       "Name: status, dtype: int64"
      ]
     },
     "execution_count": 35,
     "metadata": {},
     "output_type": "execute_result"
    }
   ],
   "source": [
    "df.status.value_counts()"
   ]
  },
  {
   "cell_type": "code",
   "execution_count": null,
   "id": "805d96dc",
   "metadata": {},
   "outputs": [],
   "source": []
  },
  {
   "cell_type": "markdown",
   "id": "de032cd0",
   "metadata": {},
   "source": [
    "Let's look at the tenure variable"
   ]
  },
  {
   "cell_type": "code",
   "execution_count": 36,
   "id": "eef61d91",
   "metadata": {},
   "outputs": [
    {
     "data": {
      "text/plain": [
       "''"
      ]
     },
     "execution_count": 36,
     "metadata": {},
     "output_type": "execute_result"
    },
    {
     "data": {
      "image/png": "[encoded data removed]",
      "text/plain": [
       "<Figure size 432x288 with 1 Axes>"
      ]
     },
     "metadata": {},
     "output_type": "display_data"
    }
   ],
   "source": [
    "sns.histplot(df['tenure'], bins=30)\n",
    ";"
   ]
  },
  {
   "cell_type": "code",
   "execution_count": 37,
   "id": "706489c6",
   "metadata": {},
   "outputs": [
    {
     "data": {
      "text/plain": [
       "6.1    1702\n",
       "5.7    1659\n",
       "6.0    1655\n",
       "6.2    1650\n",
       "5.9    1637\n",
       "       ... \n",
       "9.5       3\n",
       "9.6       2\n",
       "1.7       1\n",
       "1.9       1\n",
       "2.1       1\n",
       "Name: tenure, Length: 79, dtype: int64"
      ]
     },
     "execution_count": 37,
     "metadata": {},
     "output_type": "execute_result"
    }
   ],
   "source": [
    "df.tenure.value_counts()"
   ]
  },
  {
   "cell_type": "code",
   "execution_count": null,
   "id": "3e2a645c",
   "metadata": {},
   "outputs": [],
   "source": []
  },
  {
   "cell_type": "markdown",
   "id": "1e979ead",
   "metadata": {},
   "source": [
    "As a sanity check on the data, I want to see if there is click data for participants that didn't receive emails.  In theory there shouldn't be any click data for participants that didn't get emails."
   ]
  },
  {
   "cell_type": "code",
   "execution_count": 38,
   "id": "87112a2d",
   "metadata": {},
   "outputs": [
    {
     "data": {
      "text/plain": [
       "0    3350\n",
       "1    1119\n",
       "Name: clicked_email, dtype: int64"
      ]
     },
     "execution_count": 38,
     "metadata": {},
     "output_type": "execute_result"
    }
   ],
   "source": [
    "df[df['campaign'] == 2].clicked_email.value_counts()"
   ]
  },
  {
   "cell_type": "markdown",
   "id": "85082969",
   "metadata": {},
   "source": [
    "It looks like there are 1,119 participants that did not receive any emails (in campaign group 2), but are showing that they clicked the email.  I'll remove those observations since this is likely an error."
   ]
  },
  {
   "cell_type": "code",
   "execution_count": 39,
   "id": "01800b0f",
   "metadata": {},
   "outputs": [
    {
     "data": {
      "text/plain": [
       "0    2256\n",
       "1    2213\n",
       "Name: opened_email, dtype: int64"
      ]
     },
     "execution_count": 39,
     "metadata": {},
     "output_type": "execute_result"
    }
   ],
   "source": [
    "df[df['campaign'] == 2].opened_email.value_counts()"
   ]
  },
  {
   "cell_type": "markdown",
   "id": "6027b44e",
   "metadata": {},
   "source": [
    "It looks like there are 2,213 participants that did not receive any emails (in campaign group 2), but are showing that they clicked the email.  I'll remove those observations since this is likely an error. Note that some of these likely overlap with the above clicked_email group."
   ]
  },
  {
   "cell_type": "markdown",
   "id": "1ccf90b7",
   "metadata": {},
   "source": [
    "Additionally, I want to check if there are observations that show click data, but the user never opened the email.  This should also in theory not be possible.  Based on the below, there are two such observations.  We will also delete these."
   ]
  },
  {
   "cell_type": "code",
   "execution_count": 40,
   "id": "b56e2820",
   "metadata": {},
   "outputs": [
    {
     "data": {
      "text/html": [
       "<div>\n",
       "<style scoped>\n",
       "    .dataframe tbody tr th:only-of-type {\n",
       "        vertical-align: middle;\n",
       "    }\n",
       "\n",
       "    .dataframe tbody tr th {\n",
       "        vertical-align: top;\n",
       "    }\n",
       "\n",
       "    .dataframe thead th {\n",
       "        text-align: right;\n",
       "    }\n",
       "</style>\n",
       "<table border=\"1\" class=\"dataframe\">\n",
       "  <thead>\n",
       "    <tr style=\"text-align: right;\">\n",
       "      <th></th>\n",
       "      <th>part_id</th>\n",
       "      <th>fund_ct</th>\n",
       "      <th>logon_ct</th>\n",
       "      <th>call_ct</th>\n",
       "      <th>balance</th>\n",
       "      <th>tenure</th>\n",
       "      <th>age</th>\n",
       "      <th>gender</th>\n",
       "      <th>status</th>\n",
       "      <th>campaign</th>\n",
       "      <th>click_dt</th>\n",
       "      <th>bounce_dt</th>\n",
       "      <th>open_dt</th>\n",
       "      <th>clicked_email</th>\n",
       "      <th>bounced_email</th>\n",
       "      <th>opened_email</th>\n",
       "    </tr>\n",
       "  </thead>\n",
       "  <tbody>\n",
       "    <tr>\n",
       "      <th>33431</th>\n",
       "      <td>9774115972</td>\n",
       "      <td>6</td>\n",
       "      <td>10</td>\n",
       "      <td>2</td>\n",
       "      <td>42,965.12</td>\n",
       "      <td>7.0</td>\n",
       "      <td>45.3</td>\n",
       "      <td>0</td>\n",
       "      <td>0</td>\n",
       "      <td>1</td>\n",
       "      <td>9/2/2020 0:00</td>\n",
       "      <td>NaN</td>\n",
       "      <td>NaN</td>\n",
       "      <td>1</td>\n",
       "      <td>0</td>\n",
       "      <td>0</td>\n",
       "    </tr>\n",
       "    <tr>\n",
       "      <th>37386</th>\n",
       "      <td>7695128644</td>\n",
       "      <td>6</td>\n",
       "      <td>13</td>\n",
       "      <td>0</td>\n",
       "      <td>35,668.67</td>\n",
       "      <td>6.5</td>\n",
       "      <td>46.2</td>\n",
       "      <td>0</td>\n",
       "      <td>0</td>\n",
       "      <td>2</td>\n",
       "      <td>8/9/2020 0:00</td>\n",
       "      <td>NaN</td>\n",
       "      <td>NaN</td>\n",
       "      <td>1</td>\n",
       "      <td>0</td>\n",
       "      <td>0</td>\n",
       "    </tr>\n",
       "  </tbody>\n",
       "</table>\n",
       "</div>"
      ],
      "text/plain": [
       "          part_id  fund_ct  logon_ct  call_ct   balance  tenure  age  gender  \\\n",
       "33431  9774115972        6        10        2 42,965.12     7.0 45.3       0   \n",
       "37386  7695128644        6        13        0 35,668.67     6.5 46.2       0   \n",
       "\n",
       "       status  campaign       click_dt bounce_dt open_dt  clicked_email  \\\n",
       "33431       0         1  9/2/2020 0:00       NaN     NaN              1   \n",
       "37386       0         2  8/9/2020 0:00       NaN     NaN              1   \n",
       "\n",
       "       bounced_email  opened_email  \n",
       "33431              0             0  \n",
       "37386              0             0  "
      ]
     },
     "execution_count": 40,
     "metadata": {},
     "output_type": "execute_result"
    }
   ],
   "source": [
    " df.loc[(df['opened_email'] == 0) & (df['clicked_email'] == 1)]"
   ]
  },
  {
   "cell_type": "code",
   "execution_count": 41,
   "id": "348f1ba7",
   "metadata": {},
   "outputs": [
    {
     "data": {
      "text/plain": [
       "(41767, 16)"
      ]
     },
     "execution_count": 41,
     "metadata": {},
     "output_type": "execute_result"
    }
   ],
   "source": [
    "df.shape"
   ]
  },
  {
   "cell_type": "markdown",
   "id": "fb031f68",
   "metadata": {},
   "source": [
    "I'll now take the steps to remove these three cases from the dataset"
   ]
  },
  {
   "cell_type": "code",
   "execution_count": 42,
   "id": "8e65cf3f",
   "metadata": {},
   "outputs": [],
   "source": [
    "# need to delete observations where campaign == 2 and and clicked_email or open_email = 1\n",
    "#df.loc[(df['campaign'] == 2) & (df['clicked_email'] == 1)]"
   ]
  },
  {
   "cell_type": "code",
   "execution_count": 43,
   "id": "63a99bb0",
   "metadata": {},
   "outputs": [],
   "source": [
    "# remove observations where campaign == 2 and and clicked_email = 1\n",
    "df = df[ ~((df['campaign'] == 2) & (df['clicked_email'] == 1))]"
   ]
  },
  {
   "cell_type": "code",
   "execution_count": 44,
   "id": "015cec3a",
   "metadata": {},
   "outputs": [
    {
     "data": {
      "text/plain": [
       "(40648, 16)"
      ]
     },
     "execution_count": 44,
     "metadata": {},
     "output_type": "execute_result"
    }
   ],
   "source": [
    "# verify this worked correctly\n",
    "df.shape"
   ]
  },
  {
   "cell_type": "code",
   "execution_count": null,
   "id": "3ff837fd",
   "metadata": {},
   "outputs": [],
   "source": []
  },
  {
   "cell_type": "code",
   "execution_count": 45,
   "id": "4694e512",
   "metadata": {},
   "outputs": [],
   "source": [
    "# remove observations where campaign == 2 and and opened_email = 1\n",
    "df = df[ ~((df['campaign'] == 2) & (df['opened_email'] == 1))]"
   ]
  },
  {
   "cell_type": "code",
   "execution_count": 46,
   "id": "7d62b82c",
   "metadata": {},
   "outputs": [
    {
     "data": {
      "text/plain": [
       "(39553, 16)"
      ]
     },
     "execution_count": 46,
     "metadata": {},
     "output_type": "execute_result"
    }
   ],
   "source": [
    "# verify that this worked correctly\n",
    "df.shape"
   ]
  },
  {
   "cell_type": "code",
   "execution_count": 47,
   "id": "2a8b4e8a",
   "metadata": {},
   "outputs": [],
   "source": [
    "# remove observations where opened_email == 0 and and clicked_email = 1\n",
    "df = df[ ~((df['opened_email'] == 0) & (df['clicked_email'] == 1))]"
   ]
  },
  {
   "cell_type": "code",
   "execution_count": 48,
   "id": "9eb0816a",
   "metadata": {},
   "outputs": [
    {
     "data": {
      "text/plain": [
       "(39552, 16)"
      ]
     },
     "execution_count": 48,
     "metadata": {},
     "output_type": "execute_result"
    }
   ],
   "source": [
    "df.shape"
   ]
  },
  {
   "cell_type": "code",
   "execution_count": 49,
   "id": "ce5aa50d",
   "metadata": {},
   "outputs": [
    {
     "data": {
      "text/plain": [
       "2215"
      ]
     },
     "execution_count": 49,
     "metadata": {},
     "output_type": "execute_result"
    }
   ],
   "source": [
    "41767 - 39552"
   ]
  },
  {
   "cell_type": "code",
   "execution_count": 50,
   "id": "4cc667a3",
   "metadata": {},
   "outputs": [
    {
     "data": {
      "text/plain": [
       "0.0530322982258721"
      ]
     },
     "execution_count": 50,
     "metadata": {},
     "output_type": "execute_result"
    }
   ],
   "source": [
    "2215 / 41767"
   ]
  },
  {
   "cell_type": "markdown",
   "id": "b0f30d40",
   "metadata": {},
   "source": [
    "Let's take a look at the distribution of numeric variables"
   ]
  },
  {
   "cell_type": "code",
   "execution_count": 51,
   "id": "1b5ee5f6",
   "metadata": {},
   "outputs": [
    {
     "data": {
      "image/png": "[encoded data removed]",
      "text/plain": [
       "<Figure size 1080x720 with 6 Axes>"
      ]
     },
     "metadata": {},
     "output_type": "display_data"
    }
   ],
   "source": [
    "df_numeric.hist(figsize=(15,10))\n",
    "plt.subplots_adjust(hspace=0.5)"
   ]
  },
  {
   "cell_type": "markdown",
   "id": "bd3bfa4b",
   "metadata": {},
   "source": [
    "##### Observations: \n",
    "- the distribution of fund_ct and call_ct look a little peculiar\n"
   ]
  },
  {
   "cell_type": "code",
   "execution_count": 52,
   "id": "b6cb488b",
   "metadata": {},
   "outputs": [
    {
     "data": {
      "text/plain": [
       "2    20848\n",
       "0    16151\n",
       "1     1580\n",
       "4      954\n",
       "3       11\n",
       "5        8\n",
       "Name: call_ct, dtype: int64"
      ]
     },
     "execution_count": 52,
     "metadata": {},
     "output_type": "execute_result"
    }
   ],
   "source": [
    "df.call_ct.value_counts()"
   ]
  },
  {
   "cell_type": "code",
   "execution_count": 53,
   "id": "8e7fbccc",
   "metadata": {},
   "outputs": [
    {
     "data": {
      "text/plain": [
       "''"
      ]
     },
     "execution_count": 53,
     "metadata": {},
     "output_type": "execute_result"
    },
    {
     "data": {
      "image/png": "[encoded data removed]",
      "text/plain": [
       "<Figure size 432x288 with 1 Axes>"
      ]
     },
     "metadata": {},
     "output_type": "display_data"
    }
   ],
   "source": [
    "sns.histplot(df['call_ct'], bins=6)\n",
    ";"
   ]
  },
  {
   "cell_type": "markdown",
   "id": "a997edec",
   "metadata": {},
   "source": [
    "##### Observations:\n",
    "- This data is somewhat strange, in that it jumps dramatically to 2 calls, then dropping to only 11 at 3 calls, then jumping back up again to 954 at 4 calls.  We don't have enough information to take action on this, but it could be worth investigating if we had more information."
   ]
  },
  {
   "cell_type": "code",
   "execution_count": 54,
   "id": "27ae1794",
   "metadata": {},
   "outputs": [
    {
     "data": {
      "text/plain": [
       "6     21860\n",
       "7     11163\n",
       "5      4324\n",
       "8      1955\n",
       "9       226\n",
       "10       22\n",
       "12        1\n",
       "11        1\n",
       "Name: fund_ct, dtype: int64"
      ]
     },
     "execution_count": 54,
     "metadata": {},
     "output_type": "execute_result"
    }
   ],
   "source": [
    "df.fund_ct.value_counts()"
   ]
  },
  {
   "cell_type": "code",
   "execution_count": 55,
   "id": "9daa0101",
   "metadata": {},
   "outputs": [
    {
     "data": {
      "text/plain": [
       "''"
      ]
     },
     "execution_count": 55,
     "metadata": {},
     "output_type": "execute_result"
    },
    {
     "data": {
      "image/png": "[encoded data removed]",
      "text/plain": [
       "<Figure size 432x288 with 1 Axes>"
      ]
     },
     "metadata": {},
     "output_type": "display_data"
    }
   ],
   "source": [
    "sns.histplot(df['fund_ct'], bins=8)\n",
    ";"
   ]
  },
  {
   "cell_type": "markdown",
   "id": "be81911f",
   "metadata": {},
   "source": [
    "On closer inspection, nothing particularly worrisome here."
   ]
  },
  {
   "cell_type": "code",
   "execution_count": 101,
   "id": "98889007",
   "metadata": {},
   "outputs": [
    {
     "data": {
      "text/plain": [
       "12    15391\n",
       "11     9541\n",
       "13     8783\n",
       "10     2564\n",
       "14     2503\n",
       "15      579\n",
       "16      151\n",
       "17       37\n",
       "19        2\n",
       "18        1\n",
       "Name: logon_ct, dtype: int64"
      ]
     },
     "execution_count": 101,
     "metadata": {},
     "output_type": "execute_result"
    }
   ],
   "source": [
    "df.logon_ct.value_counts()"
   ]
  },
  {
   "cell_type": "code",
   "execution_count": 102,
   "id": "11a2e455",
   "metadata": {},
   "outputs": [
    {
     "data": {
      "text/plain": [
       "''"
      ]
     },
     "execution_count": 102,
     "metadata": {},
     "output_type": "execute_result"
    },
    {
     "data": {
      "image/png": "[encoded data removed]",
      "text/plain": [
       "<Figure size 432x288 with 1 Axes>"
      ]
     },
     "metadata": {},
     "output_type": "display_data"
    }
   ],
   "source": [
    "sns.histplot(df['logon_ct'], bins=10)\n",
    ";"
   ]
  },
  {
   "cell_type": "code",
   "execution_count": 100,
   "id": "b226999c",
   "metadata": {},
   "outputs": [
    {
     "data": {
      "text/plain": [
       "''"
      ]
     },
     "execution_count": 100,
     "metadata": {},
     "output_type": "execute_result"
    },
    {
     "data": {
      "image/png": "[encoded data removed]",
      "text/plain": [
       "<Figure size 432x288 with 1 Axes>"
      ]
     },
     "metadata": {},
     "output_type": "display_data"
    }
   ],
   "source": [
    "sns.histplot(df['balance'], bins=15)\n",
    ";"
   ]
  },
  {
   "cell_type": "code",
   "execution_count": null,
   "id": "3193a141",
   "metadata": {},
   "outputs": [],
   "source": []
  },
  {
   "cell_type": "code",
   "execution_count": 56,
   "id": "8bb1663a",
   "metadata": {},
   "outputs": [
    {
     "data": {
      "text/plain": [
       "''"
      ]
     },
     "execution_count": 56,
     "metadata": {},
     "output_type": "execute_result"
    },
    {
     "data": {
      "image/png": "[encoded data removed]",
      "text/plain": [
       "<Figure size 576x432 with 2 Axes>"
      ]
     },
     "metadata": {},
     "output_type": "display_data"
    }
   ],
   "source": [
    "corrmat = df_numeric.corr()\n",
    "f, ax = plt.subplots(figsize=(8, 6))\n",
    "hm = sns.heatmap(round(corrmat,2), annot=True, ax=ax, cmap='magma',fmt='.2f',\n",
    "                 linewidths=.05)\n",
    "\n",
    "f.subplots_adjust(top=0.93)\n",
    ";\n"
   ]
  },
  {
   "cell_type": "code",
   "execution_count": null,
   "id": "4473ff91",
   "metadata": {},
   "outputs": [],
   "source": []
  },
  {
   "cell_type": "code",
   "execution_count": 57,
   "id": "d3dea1bf",
   "metadata": {},
   "outputs": [
    {
     "name": "stdout",
     "output_type": "stream",
     "text": [
      "<class 'pandas.core.frame.DataFrame'>\n",
      "Int64Index: 39552 entries, 0 to 41765\n",
      "Data columns (total 16 columns):\n",
      " #   Column         Non-Null Count  Dtype  \n",
      "---  ------         --------------  -----  \n",
      " 0   part_id        39552 non-null  int64  \n",
      " 1   fund_ct        39552 non-null  int64  \n",
      " 2   logon_ct       39552 non-null  int64  \n",
      " 3   call_ct        39552 non-null  int64  \n",
      " 4   balance        39552 non-null  float64\n",
      " 5   tenure         39552 non-null  float64\n",
      " 6   age            39552 non-null  float64\n",
      " 7   gender         39552 non-null  int64  \n",
      " 8   status         39552 non-null  int64  \n",
      " 9   campaign       39552 non-null  int64  \n",
      " 10  click_dt       9387 non-null   object \n",
      " 11  bounce_dt      31 non-null     object \n",
      " 12  open_dt        18807 non-null  object \n",
      " 13  clicked_email  39552 non-null  int64  \n",
      " 14  bounced_email  39552 non-null  int64  \n",
      " 15  opened_email   39552 non-null  int64  \n",
      "dtypes: float64(3), int64(10), object(3)\n",
      "memory usage: 5.1+ MB\n"
     ]
    }
   ],
   "source": [
    "df.info()"
   ]
  },
  {
   "cell_type": "code",
   "execution_count": null,
   "id": "df4fddf7",
   "metadata": {},
   "outputs": [],
   "source": []
  },
  {
   "cell_type": "code",
   "execution_count": 58,
   "id": "b0bbd735",
   "metadata": {},
   "outputs": [
    {
     "data": {
      "text/plain": [
       "0    30165\n",
       "1     9387\n",
       "Name: clicked_email, dtype: int64"
      ]
     },
     "execution_count": 58,
     "metadata": {},
     "output_type": "execute_result"
    }
   ],
   "source": [
    "df.clicked_email.value_counts()"
   ]
  },
  {
   "cell_type": "code",
   "execution_count": null,
   "id": "af1427a6",
   "metadata": {},
   "outputs": [],
   "source": []
  },
  {
   "cell_type": "code",
   "execution_count": 59,
   "id": "34ceb627",
   "metadata": {},
   "outputs": [
    {
     "data": {
      "text/plain": [
       "0.24801600103232466"
      ]
     },
     "execution_count": 59,
     "metadata": {},
     "output_type": "execute_result"
    }
   ],
   "source": [
    "# calculation for conversion rate of campaign 0\n",
    "len(df.loc[(df['campaign'] == 0) & (df['clicked_email'] == 1)]) / len(df[df['campaign'] == 0])"
   ]
  },
  {
   "cell_type": "code",
   "execution_count": 60,
   "id": "48c811ae",
   "metadata": {},
   "outputs": [
    {
     "data": {
      "text/plain": [
       "0.25428938434718784"
      ]
     },
     "execution_count": 60,
     "metadata": {},
     "output_type": "execute_result"
    }
   ],
   "source": [
    "# calculation for conversion rate of campaign 1\n",
    "len(df.loc[(df['campaign'] == 1) & (df['clicked_email'] == 1)]) / len(df[df['campaign'] == 1])"
   ]
  },
  {
   "cell_type": "code",
   "execution_count": null,
   "id": "96049251",
   "metadata": {},
   "outputs": [],
   "source": []
  },
  {
   "cell_type": "code",
   "execution_count": 61,
   "id": "e946e9e8",
   "metadata": {},
   "outputs": [
    {
     "data": {
      "text/plain": [
       "''"
      ]
     },
     "execution_count": 61,
     "metadata": {},
     "output_type": "execute_result"
    },
    {
     "data": {
      "image/png": "[encoded data removed]",
      "text/plain": [
       "<Figure size 432x288 with 1 Axes>"
      ]
     },
     "metadata": {},
     "output_type": "display_data"
    }
   ],
   "source": [
    "sns.countplot(x='campaign', data=df, hue='clicked_email')\n",
    "plt.title(\"Email engagement by campaign\")\n",
    ";"
   ]
  },
  {
   "cell_type": "code",
   "execution_count": 62,
   "id": "ca2c2581",
   "metadata": {},
   "outputs": [
    {
     "data": {
      "text/plain": [
       "''"
      ]
     },
     "execution_count": 62,
     "metadata": {},
     "output_type": "execute_result"
    },
    {
     "data": {
      "image/png": "[encoded data removed]",
      "text/plain": [
       "<Figure size 432x288 with 1 Axes>"
      ]
     },
     "metadata": {},
     "output_type": "display_data"
    }
   ],
   "source": [
    "sns.countplot(x='gender', data=df, hue='clicked_email')\n",
    "plt.title(\"Email engagement by gender\")\n",
    ";"
   ]
  },
  {
   "cell_type": "code",
   "execution_count": 108,
   "id": "e98279a6",
   "metadata": {},
   "outputs": [
    {
     "data": {
      "text/plain": [
       "0    28780\n",
       "1    10772\n",
       "Name: gender, dtype: int64"
      ]
     },
     "execution_count": 108,
     "metadata": {},
     "output_type": "execute_result"
    }
   ],
   "source": [
    "df.gender.value_counts()"
   ]
  },
  {
   "cell_type": "code",
   "execution_count": 120,
   "id": "b3324b29",
   "metadata": {},
   "outputs": [
    {
     "data": {
      "text/plain": [
       "10772"
      ]
     },
     "execution_count": 120,
     "metadata": {},
     "output_type": "execute_result"
    }
   ],
   "source": [
    "len(df.loc[(df['gender'] == 1)])"
   ]
  },
  {
   "cell_type": "code",
   "execution_count": 121,
   "id": "12e84968",
   "metadata": {},
   "outputs": [
    {
     "data": {
      "text/plain": [
       "10152"
      ]
     },
     "execution_count": 121,
     "metadata": {},
     "output_type": "execute_result"
    }
   ],
   "source": [
    "# female conversion rate\n",
    "len(df.loc[(df['gender'] == 1) & ~(df['campaign'] == 2)])"
   ]
  },
  {
   "cell_type": "code",
   "execution_count": 122,
   "id": "c5502bcf",
   "metadata": {},
   "outputs": [
    {
     "data": {
      "text/plain": [
       "2607"
      ]
     },
     "execution_count": 122,
     "metadata": {},
     "output_type": "execute_result"
    }
   ],
   "source": [
    "len(df.loc[(df['gender'] == 1) & (df['clicked_email'] == 1)])"
   ]
  },
  {
   "cell_type": "code",
   "execution_count": 123,
   "id": "3d057ea3",
   "metadata": {},
   "outputs": [
    {
     "data": {
      "text/plain": [
       "0.2567966903073286"
      ]
     },
     "execution_count": 123,
     "metadata": {},
     "output_type": "execute_result"
    }
   ],
   "source": [
    "2607/10152"
   ]
  },
  {
   "cell_type": "code",
   "execution_count": 130,
   "id": "3239b6a7",
   "metadata": {},
   "outputs": [
    {
     "data": {
      "text/plain": [
       "0    27145\n",
       "Name: gender, dtype: int64"
      ]
     },
     "execution_count": 130,
     "metadata": {},
     "output_type": "execute_result"
    }
   ],
   "source": [
    "df.loc[(df['gender'] == 0) & ~(df['campaign'] == 2)].gender.value_counts()"
   ]
  },
  {
   "cell_type": "code",
   "execution_count": 124,
   "id": "bc08591e",
   "metadata": {},
   "outputs": [
    {
     "data": {
      "text/plain": [
       "27145"
      ]
     },
     "execution_count": 124,
     "metadata": {},
     "output_type": "execute_result"
    }
   ],
   "source": [
    "# male conversion rate\n",
    "len(df.loc[(df['gender'] == 0) & ~(df['campaign'] == 2)])"
   ]
  },
  {
   "cell_type": "code",
   "execution_count": 125,
   "id": "c05a2678",
   "metadata": {},
   "outputs": [
    {
     "data": {
      "text/plain": [
       "6780"
      ]
     },
     "execution_count": 125,
     "metadata": {},
     "output_type": "execute_result"
    }
   ],
   "source": [
    "len(df.loc[(df['gender'] == 0) & (df['clicked_email'] == 1)])"
   ]
  },
  {
   "cell_type": "code",
   "execution_count": 126,
   "id": "5aed3414",
   "metadata": {},
   "outputs": [
    {
     "data": {
      "text/plain": [
       "0.24976975501934057"
      ]
     },
     "execution_count": 126,
     "metadata": {},
     "output_type": "execute_result"
    }
   ],
   "source": [
    "6780/27145"
   ]
  },
  {
   "cell_type": "code",
   "execution_count": null,
   "id": "caf21ef0",
   "metadata": {},
   "outputs": [],
   "source": [
    "# calculation for conversion rate of campaign 1\n",
    "len(df.loc[(df['campaign'] == 1) & (df['clicked_email'] == 1)]) / len(df[df['campaign'] == 1])"
   ]
  },
  {
   "cell_type": "code",
   "execution_count": null,
   "id": "72029eb5",
   "metadata": {},
   "outputs": [],
   "source": []
  },
  {
   "cell_type": "code",
   "execution_count": 110,
   "id": "73a30ed8",
   "metadata": {},
   "outputs": [
    {
     "data": {
      "text/plain": [
       "0.7276496763754046"
      ]
     },
     "execution_count": 110,
     "metadata": {},
     "output_type": "execute_result"
    }
   ],
   "source": [
    "28780 / 39552"
   ]
  },
  {
   "cell_type": "code",
   "execution_count": 109,
   "id": "d6199af3",
   "metadata": {},
   "outputs": [
    {
     "data": {
      "text/plain": [
       "39552"
      ]
     },
     "execution_count": 109,
     "metadata": {},
     "output_type": "execute_result"
    }
   ],
   "source": [
    "len(df)"
   ]
  },
  {
   "cell_type": "code",
   "execution_count": 63,
   "id": "e9fb6d58",
   "metadata": {
    "scrolled": true
   },
   "outputs": [
    {
     "data": {
      "text/plain": [
       "''"
      ]
     },
     "execution_count": 63,
     "metadata": {},
     "output_type": "execute_result"
    },
    {
     "data": {
      "image/png": "[encoded data removed]",
      "text/plain": [
       "<Figure size 432x288 with 1 Axes>"
      ]
     },
     "metadata": {},
     "output_type": "display_data"
    }
   ],
   "source": [
    "sns.countplot(x='status', data=df, hue='clicked_email')\n",
    "plt.title(\"Email engagement by status\")\n",
    ";"
   ]
  },
  {
   "cell_type": "code",
   "execution_count": 111,
   "id": "99513c03",
   "metadata": {},
   "outputs": [
    {
     "data": {
      "text/plain": [
       "0    24876\n",
       "1    14676\n",
       "Name: status, dtype: int64"
      ]
     },
     "execution_count": 111,
     "metadata": {},
     "output_type": "execute_result"
    }
   ],
   "source": [
    "df.status.value_counts()"
   ]
  },
  {
   "cell_type": "code",
   "execution_count": 112,
   "id": "acf8a4ca",
   "metadata": {},
   "outputs": [
    {
     "data": {
      "text/plain": [
       "0.6289441747572816"
      ]
     },
     "execution_count": 112,
     "metadata": {},
     "output_type": "execute_result"
    }
   ],
   "source": [
    "24876 / 39552"
   ]
  },
  {
   "cell_type": "code",
   "execution_count": 113,
   "id": "a62510c2",
   "metadata": {},
   "outputs": [
    {
     "data": {
      "text/plain": [
       "1    21798\n",
       "0    15499\n",
       "2     2255\n",
       "Name: campaign, dtype: int64"
      ]
     },
     "execution_count": 113,
     "metadata": {},
     "output_type": "execute_result"
    }
   ],
   "source": [
    "df.campaign.value_counts()"
   ]
  },
  {
   "cell_type": "code",
   "execution_count": 114,
   "id": "f0b838a1",
   "metadata": {},
   "outputs": [
    {
     "data": {
      "text/plain": [
       "0.551122572815534"
      ]
     },
     "execution_count": 114,
     "metadata": {},
     "output_type": "execute_result"
    }
   ],
   "source": [
    "21798 / 39552"
   ]
  },
  {
   "cell_type": "code",
   "execution_count": 115,
   "id": "025925b9",
   "metadata": {},
   "outputs": [
    {
     "data": {
      "text/plain": [
       "0.39186387540453077"
      ]
     },
     "execution_count": 115,
     "metadata": {},
     "output_type": "execute_result"
    }
   ],
   "source": [
    "15499 / 39552"
   ]
  },
  {
   "cell_type": "code",
   "execution_count": 116,
   "id": "68456416",
   "metadata": {},
   "outputs": [
    {
     "data": {
      "text/plain": [
       "0.05701355177993527"
      ]
     },
     "execution_count": 116,
     "metadata": {},
     "output_type": "execute_result"
    }
   ],
   "source": [
    "2255 / 39552"
   ]
  },
  {
   "cell_type": "code",
   "execution_count": null,
   "id": "3d5c933f",
   "metadata": {},
   "outputs": [],
   "source": []
  },
  {
   "cell_type": "code",
   "execution_count": null,
   "id": "69200df7",
   "metadata": {},
   "outputs": [],
   "source": []
  },
  {
   "cell_type": "markdown",
   "id": "dab0051c",
   "metadata": {},
   "source": [
    "# <font color='blue'>Modeling</font>"
   ]
  },
  {
   "cell_type": "code",
   "execution_count": 64,
   "id": "2006412c",
   "metadata": {},
   "outputs": [],
   "source": [
    "# drop unnecessary columns\n",
    "df = df.drop(['part_id', 'click_dt', 'bounce_dt', 'open_dt', 'bounced_email', 'opened_email'], axis=1)"
   ]
  },
  {
   "cell_type": "code",
   "execution_count": 65,
   "id": "222f81b6",
   "metadata": {},
   "outputs": [],
   "source": [
    "\n",
    "### Split data into training and testing subsets\n",
    "\n",
    "# Create the X and y matrices from the dataframe\n",
    "X = df.drop(columns = ['clicked_email'])\n",
    "y = df['clicked_email']\n",
    "\n",
    "# from sklearn.model_selection import train_test_split; reserve 20% for test\n",
    "X_train, X_test, y_train, y_test = train_test_split(X, y, test_size=.20, random_state=23)\n",
    "\n",
    "#X_train.isna().sum().sum()"
   ]
  },
  {
   "cell_type": "code",
   "execution_count": 66,
   "id": "a574be7b",
   "metadata": {},
   "outputs": [],
   "source": [
    "eval_set = [(X_train, y_train), (X_test, y_test)]"
   ]
  },
  {
   "cell_type": "code",
   "execution_count": null,
   "id": "c7121b98",
   "metadata": {},
   "outputs": [],
   "source": []
  },
  {
   "cell_type": "markdown",
   "id": "9af4b85f",
   "metadata": {},
   "source": [
    "# <font color='orange'>Random Forest Model</font>\n"
   ]
  },
  {
   "cell_type": "code",
   "execution_count": 67,
   "id": "c2e23ff4",
   "metadata": {},
   "outputs": [
    {
     "name": "stdout",
     "output_type": "stream",
     "text": [
      "Classification Report for Training Data\n",
      "              precision    recall  f1-score   support\n",
      "\n",
      "           0       1.00      1.00      1.00     24141\n",
      "           1       1.00      1.00      1.00      7500\n",
      "\n",
      "    accuracy                           1.00     31641\n",
      "   macro avg       1.00      1.00      1.00     31641\n",
      "weighted avg       1.00      1.00      1.00     31641\n",
      "\n",
      "Classification Report for Test Data\n",
      "              precision    recall  f1-score   support\n",
      "\n",
      "           0       0.76      0.96      0.85      6024\n",
      "           1       0.29      0.06      0.09      1887\n",
      "\n",
      "    accuracy                           0.74      7911\n",
      "   macro avg       0.53      0.51      0.47      7911\n",
      "weighted avg       0.65      0.74      0.67      7911\n",
      "\n",
      "F1 Score:  0.0939\n"
     ]
    }
   ],
   "source": [
    "rf_clf = RandomForestClassifier(random_state = 23, n_jobs=-1)\n",
    "rf_clf.fit(X_train, y_train.values.ravel())\n",
    "y_pred = rf_clf.predict(X_test)\n",
    "\n",
    "#classification report\n",
    "print(\"Classification Report for Training Data\")\n",
    "print(classification_report(y_train, rf_clf.predict(X_train)))\n",
    "print(\"Classification Report for Test Data\")\n",
    "print(classification_report(y_test, rf_clf.predict(X_test)))\n",
    "#calculate F1 score\n",
    "print('F1 Score: ', f\"{f1_score(y_test, y_pred):,.4f}\")"
   ]
  },
  {
   "cell_type": "code",
   "execution_count": 68,
   "id": "31f3564e",
   "metadata": {},
   "outputs": [
    {
     "data": {
      "text/plain": [
       "''"
      ]
     },
     "execution_count": 68,
     "metadata": {},
     "output_type": "execute_result"
    },
    {
     "data": {
      "image/png": "[encoded data removed]",
      "text/plain": [
       "<Figure size 576x360 with 2 Axes>"
      ]
     },
     "metadata": {},
     "output_type": "display_data"
    }
   ],
   "source": [
    "data = confusion_matrix(y_test, y_pred)\n",
    "df_cm = pd.DataFrame(data, columns=np.unique(y_test), index = np.unique(y_test))\n",
    "df_cm.index.name = 'Actual'\n",
    "df_cm.columns.name = 'Predicted'\n",
    "plt.figure(figsize = (8,5))\n",
    "sns.set(font_scale=1.4)#for label size\n",
    "sns.heatmap(df_cm, cmap=\"Blues\", annot=True,annot_kws={\"size\": 14}, fmt=\",.0f\")# font size\n",
    ";"
   ]
  },
  {
   "cell_type": "code",
   "execution_count": null,
   "id": "c97fc5ea",
   "metadata": {},
   "outputs": [],
   "source": []
  },
  {
   "cell_type": "code",
   "execution_count": 97,
   "id": "6e522ca2",
   "metadata": {},
   "outputs": [
    {
     "name": "stdout",
     "output_type": "stream",
     "text": [
      "9\n"
     ]
    },
    {
     "data": {
      "image/png": "[encoded data removed]",
      "text/plain": [
       "<Figure size 576x576 with 1 Axes>"
      ]
     },
     "metadata": {},
     "output_type": "display_data"
    }
   ],
   "source": [
    "feature_importance = rf_clf.feature_importances_\n",
    "# make importances relative to max importance\n",
    "feature_importance = 100.0 * (feature_importance / feature_importance.max())[:30]\n",
    "sorted_idx = np.argsort(feature_importance)[:20]\n",
    "\n",
    "sns.set_context('notebook')\n",
    "#sns.set_style(\"whitegrid\")\n",
    "#sns.set_style(\"white\")\n",
    "style_set = sns.set_style('whitegrid')\n",
    "pos = np.arange(sorted_idx.shape[0]) + .5\n",
    "print(pos.size)\n",
    "sorted_idx.size\n",
    "plt.figure(figsize=(8,8))\n",
    "plt.barh(pos, feature_importance[sorted_idx], align='center', color = 'plum')\n",
    "plt.yticks(pos, X.columns[sorted_idx])\n",
    "plt.xlabel('Relative Importance')\n",
    "plt.title('Variable Importance')\n",
    "plt.show();"
   ]
  },
  {
   "cell_type": "markdown",
   "id": "17a2999b",
   "metadata": {},
   "source": [
    "#### Now hyperparameter tuning"
   ]
  },
  {
   "cell_type": "code",
   "execution_count": 70,
   "id": "ad49daca",
   "metadata": {},
   "outputs": [],
   "source": [
    "# set the parameter grid\n",
    "param_grid = {\n",
    "    'n_estimators': [50, 100, 150],\n",
    "    'max_depth': [3, 6, 9],\n",
    "    'max_features': ['sqrt', 'log2', None],\n",
    "    'min_samples_leaf': [5, 10, 20, 50, 100]\n",
    "}"
   ]
  },
  {
   "cell_type": "code",
   "execution_count": 71,
   "id": "1b3f58b8",
   "metadata": {},
   "outputs": [],
   "source": [
    "#markdown since it takes so long to run\n",
    "# %%time\n",
    "# random_search = RandomizedSearchCV(RandomForestClassifier(random_state=23),\n",
    "#                                    param_grid, n_jobs=-1)\n",
    "# random_search.fit(X_train, y_train.values.ravel())\n",
    "# print(random_search.best_estimator_)"
   ]
  },
  {
   "cell_type": "code",
   "execution_count": 72,
   "id": "e56b471a",
   "metadata": {},
   "outputs": [
    {
     "name": "stdout",
     "output_type": "stream",
     "text": [
      "Classification Report for Training Data\n",
      "              precision    recall  f1-score   support\n",
      "\n",
      "           0       0.76      1.00      0.87     24141\n",
      "           1       0.00      0.00      0.00      7500\n",
      "\n",
      "    accuracy                           0.76     31641\n",
      "   macro avg       0.38      0.50      0.43     31641\n",
      "weighted avg       0.58      0.76      0.66     31641\n",
      "\n",
      "Classification Report for Test Data\n",
      "              precision    recall  f1-score   support\n",
      "\n",
      "           0       0.76      1.00      0.86      6024\n",
      "           1       0.00      0.00      0.00      1887\n",
      "\n",
      "    accuracy                           0.76      7911\n",
      "   macro avg       0.38      0.50      0.43      7911\n",
      "weighted avg       0.58      0.76      0.66      7911\n",
      "\n",
      "F1 Score:  0.0000\n"
     ]
    }
   ],
   "source": [
    "rf_clf_cv = RandomForestClassifier(max_depth=3, max_features=None, min_samples_leaf=20,\n",
    "                       random_state=23, n_jobs=-1)\n",
    "rf_clf_cv.fit(X_train, y_train.values.ravel())\n",
    "y_pred = rf_clf_cv.predict(X_test)\n",
    "\n",
    "#classification report\n",
    "print(\"Classification Report for Training Data\")\n",
    "print(classification_report(y_train, rf_clf_cv.predict(X_train), zero_division=0))\n",
    "print(\"Classification Report for Test Data\")\n",
    "print(classification_report(y_test, rf_clf_cv.predict(X_test), zero_division=0))\n",
    "#calculate F1 score\n",
    "print('F1 Score: ', f\"{f1_score(y_test, y_pred):,.4f}\")"
   ]
  },
  {
   "cell_type": "code",
   "execution_count": 73,
   "id": "b21f767a",
   "metadata": {},
   "outputs": [
    {
     "data": {
      "text/plain": [
       "''"
      ]
     },
     "execution_count": 73,
     "metadata": {},
     "output_type": "execute_result"
    },
    {
     "data": {
      "image/png": "[encoded data removed]",
      "text/plain": [
       "<Figure size 576x360 with 2 Axes>"
      ]
     },
     "metadata": {},
     "output_type": "display_data"
    }
   ],
   "source": [
    "data = confusion_matrix(y_test, y_pred)\n",
    "df_cm = pd.DataFrame(data, columns=np.unique(y_test), index = np.unique(y_test))\n",
    "df_cm.index.name = 'Actual'\n",
    "df_cm.columns.name = 'Predicted'\n",
    "plt.figure(figsize = (8,5))\n",
    "sns.set(font_scale=1.4)#for label size\n",
    "sns.heatmap(df_cm, cmap=\"Blues\", annot=True,annot_kws={\"size\": 14}, fmt=\",.0f\")# font size\n",
    ";"
   ]
  },
  {
   "cell_type": "code",
   "execution_count": 74,
   "id": "08808c5e",
   "metadata": {},
   "outputs": [
    {
     "name": "stdout",
     "output_type": "stream",
     "text": [
      "9\n"
     ]
    },
    {
     "data": {
      "image/png": "[encoded data removed]",
      "text/plain": [
       "<Figure size 576x576 with 1 Axes>"
      ]
     },
     "metadata": {},
     "output_type": "display_data"
    }
   ],
   "source": [
    "feature_importance = rf_clf_cv.feature_importances_\n",
    "# make importances relative to max importance\n",
    "feature_importance = 100.0 * (feature_importance / feature_importance.max())[:30]\n",
    "sorted_idx = np.argsort(feature_importance)[:20]\n",
    "\n",
    "pos = np.arange(sorted_idx.shape[0]) + .5\n",
    "print(pos.size)\n",
    "sorted_idx.size\n",
    "plt.figure(figsize=(8,8))\n",
    "plt.barh(pos, feature_importance[sorted_idx], align='center', color = 'plum')\n",
    "plt.yticks(pos, X.columns[sorted_idx])\n",
    "plt.xlabel('Relative Importance')\n",
    "plt.title('Variable Importance')\n",
    "plt.show()"
   ]
  },
  {
   "cell_type": "code",
   "execution_count": null,
   "id": "3057658e",
   "metadata": {},
   "outputs": [],
   "source": []
  },
  {
   "cell_type": "code",
   "execution_count": null,
   "id": "ad946d10",
   "metadata": {},
   "outputs": [],
   "source": []
  },
  {
   "cell_type": "markdown",
   "id": "26dd2a23",
   "metadata": {},
   "source": [
    "# <font color='orange'>Light GBM</font>"
   ]
  },
  {
   "cell_type": "code",
   "execution_count": 75,
   "id": "a7c9ce07",
   "metadata": {},
   "outputs": [
    {
     "name": "stdout",
     "output_type": "stream",
     "text": [
      "Training until validation scores don't improve for 20 rounds\n",
      "Early stopping, best iteration is:\n",
      "[45]\ttraining's binary_logloss: 0.516706\tvalid_1's binary_logloss: 0.535019\n",
      "Classification Report for Training Data\n",
      "              precision    recall  f1-score   support\n",
      "\n",
      "           0       0.76      1.00      0.87     24141\n",
      "           1       0.81      0.00      0.00      7500\n",
      "\n",
      "    accuracy                           0.76     31641\n",
      "   macro avg       0.79      0.50      0.44     31641\n",
      "weighted avg       0.77      0.76      0.66     31641\n",
      "\n",
      "Classification Report for Test Data\n",
      "              precision    recall  f1-score   support\n",
      "\n",
      "           0       0.76      1.00      0.86      6024\n",
      "           1       0.20      0.00      0.00      1887\n",
      "\n",
      "    accuracy                           0.76      7911\n",
      "   macro avg       0.48      0.50      0.43      7911\n",
      "weighted avg       0.63      0.76      0.66      7911\n",
      "\n",
      "F1 Score:  0.0011\n"
     ]
    }
   ],
   "source": [
    "lgbm = LGBMClassifier(random_state = 23, n_jobs=-1)\n",
    "lgbm.fit(X_train, y_train, early_stopping_rounds=20, eval_set=eval_set, verbose=-1)\n",
    "#lgbm.fit(X_train, y_train)\n",
    "y_pred = lgbm.predict(X_test)\n",
    "\n",
    "# let's look at classification report\n",
    "print(\"Classification Report for Training Data\")\n",
    "print(classification_report(y_train, lgbm.predict(X_train)))\n",
    "print(\"Classification Report for Test Data\")\n",
    "print(classification_report(y_test, lgbm.predict(X_test)))\n",
    "#calculate F1 score\n",
    "print('F1 Score: ', f\"{f1_score(y_test, y_pred):,.4f}\")"
   ]
  },
  {
   "cell_type": "code",
   "execution_count": 76,
   "id": "8b7201c3",
   "metadata": {},
   "outputs": [
    {
     "name": "stdout",
     "output_type": "stream",
     "text": [
      "9\n"
     ]
    },
    {
     "data": {
      "image/png": "[encoded data removed]",
      "text/plain": [
       "<Figure size 576x576 with 1 Axes>"
      ]
     },
     "metadata": {},
     "output_type": "display_data"
    }
   ],
   "source": [
    "feature_importance = lgbm.feature_importances_\n",
    "# make importances relative to max importance\n",
    "feature_importance = 100.0 * (feature_importance / feature_importance.max())[:30]\n",
    "sorted_idx = np.argsort(feature_importance)[:20]\n",
    "\n",
    "pos = np.arange(sorted_idx.shape[0]) + .5\n",
    "print(pos.size)\n",
    "sorted_idx.size\n",
    "plt.figure(figsize=(8,8))\n",
    "plt.barh(pos, feature_importance[sorted_idx], align='center', color = 'plum')\n",
    "plt.yticks(pos, X.columns[sorted_idx])\n",
    "plt.xlabel('Relative Importance')\n",
    "plt.title('Variable Importance')\n",
    "plt.show()"
   ]
  },
  {
   "cell_type": "markdown",
   "id": "f6ddc250",
   "metadata": {},
   "source": [
    "With this baseline, let's see how we can improve with hyperparameter tuning"
   ]
  },
  {
   "cell_type": "code",
   "execution_count": 77,
   "id": "89c31148",
   "metadata": {},
   "outputs": [],
   "source": [
    "param_grid = {\n",
    "    'learning_rate': [0.1, 0.3],\n",
    "    'max_depth': [3, 6, 9],\n",
    "    'n_estimators': [50, 100, 150],\n",
    "    'num_leaves': [10, 30, 50],\n",
    "    'colsample_bytree': [.3, .5, .8]\n",
    "}"
   ]
  },
  {
   "cell_type": "code",
   "execution_count": 78,
   "id": "81554c07",
   "metadata": {
    "scrolled": true
   },
   "outputs": [],
   "source": [
    "# %%time\n",
    "# markdown since it takes so long to run\n",
    "# random_search = RandomizedSearchCV(LGBMClassifier(random_state=23),\n",
    "#                                    param_grid, n_jobs=-1)\n",
    "# random_search.fit(X_train, y_train.values.ravel())\n",
    "# print(random_search.best_estimator_)"
   ]
  },
  {
   "cell_type": "code",
   "execution_count": 79,
   "id": "4ea02781",
   "metadata": {},
   "outputs": [
    {
     "name": "stdout",
     "output_type": "stream",
     "text": [
      "Training until validation scores don't improve for 20 rounds\n",
      "Did not meet early stopping. Best iteration is:\n",
      "[50]\ttraining's binary_logloss: 0.528578\tvalid_1's binary_logloss: 0.53537\n",
      "Classification Report for Training Data\n",
      "              precision    recall  f1-score   support\n",
      "\n",
      "           0       0.76      1.00      0.87     24141\n",
      "           1       0.73      0.00      0.00      7500\n",
      "\n",
      "    accuracy                           0.76     31641\n",
      "   macro avg       0.75      0.50      0.43     31641\n",
      "weighted avg       0.75      0.76      0.66     31641\n",
      "\n",
      "Classification Report for Test Data\n",
      "              precision    recall  f1-score   support\n",
      "\n",
      "           0       0.76      1.00      0.86      6024\n",
      "           1       0.00      0.00      0.00      1887\n",
      "\n",
      "    accuracy                           0.76      7911\n",
      "   macro avg       0.38      0.50      0.43      7911\n",
      "weighted avg       0.58      0.76      0.66      7911\n",
      "\n",
      "F1 Score:  0.0000\n"
     ]
    }
   ],
   "source": [
    "lgbm_cv = LGBMClassifier(colsample_bytree=0.5, max_depth=6, n_estimators=50,\n",
    "               num_leaves=10, random_state=23, n_jobs=-1)\n",
    "lgbm_cv.fit(X_train, y_train, early_stopping_rounds=20, eval_set=eval_set, verbose=-1)\n",
    "#lgbm.fit(X_train, y_train)\n",
    "y_pred = lgbm_cv.predict(X_test)\n",
    "\n",
    "# let's look at classification report\n",
    "print(\"Classification Report for Training Data\")\n",
    "print(classification_report(y_train, lgbm_cv.predict(X_train), zero_division=0))\n",
    "print(\"Classification Report for Test Data\")\n",
    "print(classification_report(y_test, lgbm_cv.predict(X_test), zero_division=0))\n",
    "#calculate F1 score\n",
    "print('F1 Score: ', f\"{f1_score(y_test, y_pred):,.4f}\")"
   ]
  },
  {
   "cell_type": "code",
   "execution_count": 80,
   "id": "da16dbbd",
   "metadata": {},
   "outputs": [
    {
     "name": "stdout",
     "output_type": "stream",
     "text": [
      "9\n"
     ]
    },
    {
     "data": {
      "image/png": "[encoded data removed]",
      "text/plain": [
       "<Figure size 576x576 with 1 Axes>"
      ]
     },
     "metadata": {},
     "output_type": "display_data"
    }
   ],
   "source": [
    "feature_importance = lgbm_cv.feature_importances_\n",
    "# make importances relative to max importance\n",
    "feature_importance = 100.0 * (feature_importance / feature_importance.max())[:30]\n",
    "sorted_idx = np.argsort(feature_importance)[:20]\n",
    "\n",
    "pos = np.arange(sorted_idx.shape[0]) + .5\n",
    "print(pos.size)\n",
    "sorted_idx.size\n",
    "plt.figure(figsize=(8,8))\n",
    "plt.barh(pos, feature_importance[sorted_idx], align='center', color = 'plum')\n",
    "plt.yticks(pos, X.columns[sorted_idx])\n",
    "plt.xlabel('Relative Importance')\n",
    "plt.title('Variable Importance')\n",
    "plt.show()"
   ]
  },
  {
   "cell_type": "code",
   "execution_count": null,
   "id": "39fdd9e2",
   "metadata": {},
   "outputs": [],
   "source": []
  },
  {
   "cell_type": "markdown",
   "id": "e84952ce",
   "metadata": {},
   "source": [
    "### cross validation"
   ]
  },
  {
   "cell_type": "code",
   "execution_count": 104,
   "id": "76da1b0f",
   "metadata": {},
   "outputs": [
    {
     "name": "stdout",
     "output_type": "stream",
     "text": [
      "0.1\n"
     ]
    }
   ],
   "source": [
    "#define cross-validation method to use\n",
    "cv = KFold(n_splits=10, random_state=23, shuffle=True)\n",
    "\n",
    "#build multiple linear regression model\n",
    "#model = LGBMRegressor(random_state=23)\n",
    "model = RandomForestClassifier(random_state=23)\n",
    "\n",
    "\n",
    "#use k-fold CV to evaluate model\n",
    "scores = cross_val_score(model, X, y, scoring=\"f1\",\n",
    "                         cv=cv, n_jobs=-1)\n",
    "\n",
    "#view mean absolute error\n",
    "print(f\"{mean(abs(scores)):,.1f}\")"
   ]
  },
  {
   "cell_type": "markdown",
   "id": "dcd23e08",
   "metadata": {},
   "source": [
    "first run: \n",
    "\n",
    "model = LGBMRegressor(colsample_bytree=0.5, max_depth=9, n_estimators=150,\n",
    "              num_leaves=30, random_state=23)\n",
    "\n",
    "\n",
    "\n",
    "RMSE: 131,769.0\n"
   ]
  },
  {
   "cell_type": "markdown",
   "id": "577836ce",
   "metadata": {},
   "source": [
    "second model: \n",
    "\n",
    "model = LGBMRegressor(random_state=23)\n",
    "\n",
    "\n",
    "RMSE: 131,653.8\n"
   ]
  },
  {
   "cell_type": "code",
   "execution_count": null,
   "id": "57c5991c",
   "metadata": {},
   "outputs": [],
   "source": []
  },
  {
   "cell_type": "code",
   "execution_count": null,
   "id": "679df4ce",
   "metadata": {},
   "outputs": [],
   "source": []
  },
  {
   "cell_type": "code",
   "execution_count": null,
   "id": "118c7635",
   "metadata": {},
   "outputs": [],
   "source": []
  },
  {
   "cell_type": "code",
   "execution_count": null,
   "id": "f1a026d6",
   "metadata": {},
   "outputs": [],
   "source": []
  },
  {
   "cell_type": "code",
   "execution_count": null,
   "id": "05898d0f",
   "metadata": {},
   "outputs": [],
   "source": []
  },
  {
   "cell_type": "markdown",
   "id": "7c445705",
   "metadata": {},
   "source": [
    "# <font color='orange'>XGBoost</font>\n"
   ]
  },
  {
   "cell_type": "code",
   "execution_count": 81,
   "id": "e326a06d",
   "metadata": {},
   "outputs": [
    {
     "name": "stdout",
     "output_type": "stream",
     "text": [
      "[0]\tvalidation_0-logloss:0.61873\tvalidation_1-logloss:0.61971\n",
      "[1]\tvalidation_0-logloss:0.58017\tvalidation_1-logloss:0.58200\n",
      "[2]\tvalidation_0-logloss:0.55905\tvalidation_1-logloss:0.56155\n",
      "[3]\tvalidation_0-logloss:0.54682\tvalidation_1-logloss:0.54990\n",
      "[4]\tvalidation_0-logloss:0.53956\tvalidation_1-logloss:0.54373\n",
      "[5]\tvalidation_0-logloss:0.53514\tvalidation_1-logloss:0.54011\n",
      "[6]\tvalidation_0-logloss:0.53252\tvalidation_1-logloss:0.53797\n",
      "[7]\tvalidation_0-logloss:0.53069\tvalidation_1-logloss:0.53665\n",
      "[8]\tvalidation_0-logloss:0.52916\tvalidation_1-logloss:0.53609\n",
      "[9]\tvalidation_0-logloss:0.52813\tvalidation_1-logloss:0.53562\n",
      "[10]\tvalidation_0-logloss:0.52754\tvalidation_1-logloss:0.53539\n",
      "[11]\tvalidation_0-logloss:0.52662\tvalidation_1-logloss:0.53498\n",
      "[12]\tvalidation_0-logloss:0.52627\tvalidation_1-logloss:0.53500\n",
      "[13]\tvalidation_0-logloss:0.52494\tvalidation_1-logloss:0.53527\n",
      "[14]\tvalidation_0-logloss:0.52454\tvalidation_1-logloss:0.53547\n",
      "[15]\tvalidation_0-logloss:0.52399\tvalidation_1-logloss:0.53559\n",
      "[16]\tvalidation_0-logloss:0.52330\tvalidation_1-logloss:0.53571\n",
      "[17]\tvalidation_0-logloss:0.52280\tvalidation_1-logloss:0.53575\n",
      "[18]\tvalidation_0-logloss:0.52206\tvalidation_1-logloss:0.53586\n",
      "[19]\tvalidation_0-logloss:0.52117\tvalidation_1-logloss:0.53569\n",
      "[20]\tvalidation_0-logloss:0.52050\tvalidation_1-logloss:0.53564\n",
      "[21]\tvalidation_0-logloss:0.52029\tvalidation_1-logloss:0.53565\n",
      "[22]\tvalidation_0-logloss:0.51997\tvalidation_1-logloss:0.53570\n",
      "[23]\tvalidation_0-logloss:0.51908\tvalidation_1-logloss:0.53576\n",
      "[24]\tvalidation_0-logloss:0.51832\tvalidation_1-logloss:0.53573\n",
      "[25]\tvalidation_0-logloss:0.51822\tvalidation_1-logloss:0.53581\n",
      "[26]\tvalidation_0-logloss:0.51731\tvalidation_1-logloss:0.53618\n",
      "[27]\tvalidation_0-logloss:0.51618\tvalidation_1-logloss:0.53619\n",
      "[28]\tvalidation_0-logloss:0.51514\tvalidation_1-logloss:0.53638\n",
      "[29]\tvalidation_0-logloss:0.51504\tvalidation_1-logloss:0.53645\n",
      "[30]\tvalidation_0-logloss:0.51443\tvalidation_1-logloss:0.53633\n",
      "Classification Report for Training Data\n",
      "              precision    recall  f1-score   support\n",
      "\n",
      "           0       0.76      1.00      0.87     24141\n",
      "           1       0.93      0.00      0.01      7500\n",
      "\n",
      "    accuracy                           0.76     31641\n",
      "   macro avg       0.84      0.50      0.44     31641\n",
      "weighted avg       0.80      0.76      0.66     31641\n",
      "\n",
      "Classification Report for Test Data\n",
      "              precision    recall  f1-score   support\n",
      "\n",
      "           0       0.76      1.00      0.86      6024\n",
      "           1       0.43      0.00      0.00      1887\n",
      "\n",
      "    accuracy                           0.76      7911\n",
      "   macro avg       0.60      0.50      0.43      7911\n",
      "weighted avg       0.68      0.76      0.66      7911\n",
      "\n",
      "F1 Score:  0.0032\n"
     ]
    }
   ],
   "source": [
    "xgbr = XGBClassifier(random_state=23, early_stopping_rounds=20)\n",
    "xgbr.fit(X_train, y_train, eval_set=eval_set)\n",
    "y_pred = xgbr.predict(X_test)\n",
    "\n",
    "#classification report\n",
    "print(\"Classification Report for Training Data\")\n",
    "print(classification_report(y_train, xgbr.predict(X_train)))\n",
    "print(\"Classification Report for Test Data\")\n",
    "print(classification_report(y_test, xgbr.predict(X_test)))\n",
    "#calculate F1 score\n",
    "print('F1 Score: ', f\"{f1_score(y_test, y_pred):,.4f}\")"
   ]
  },
  {
   "cell_type": "code",
   "execution_count": 82,
   "id": "38f143be",
   "metadata": {},
   "outputs": [
    {
     "data": {
      "text/plain": [
       "''"
      ]
     },
     "execution_count": 82,
     "metadata": {},
     "output_type": "execute_result"
    },
    {
     "data": {
      "image/png": "[encoded data removed]",
      "text/plain": [
       "<Figure size 576x360 with 2 Axes>"
      ]
     },
     "metadata": {},
     "output_type": "display_data"
    }
   ],
   "source": [
    "data = confusion_matrix(y_test, y_pred)\n",
    "df_cm = pd.DataFrame(data, columns=np.unique(y_test), index = np.unique(y_test))\n",
    "df_cm.index.name = 'Actual'\n",
    "df_cm.columns.name = 'Predicted'\n",
    "plt.figure(figsize = (8,5))\n",
    "sns.set(font_scale=1.4)#for label size\n",
    "sns.heatmap(df_cm, cmap=\"Blues\", annot=True,annot_kws={\"size\": 14}, fmt=\",.0f\")# font size\n",
    ";"
   ]
  },
  {
   "cell_type": "code",
   "execution_count": 83,
   "id": "270b0ea8",
   "metadata": {},
   "outputs": [
    {
     "name": "stdout",
     "output_type": "stream",
     "text": [
      "9\n"
     ]
    },
    {
     "data": {
      "image/png": "[encoded data removed]",
      "text/plain": [
       "<Figure size 576x576 with 1 Axes>"
      ]
     },
     "metadata": {},
     "output_type": "display_data"
    }
   ],
   "source": [
    "feature_importance = xgbr.feature_importances_\n",
    "# make importances relative to max importance\n",
    "feature_importance = 100.0 * (feature_importance / feature_importance.max())[:30]\n",
    "sorted_idx = np.argsort(feature_importance)[:20]\n",
    "\n",
    "pos = np.arange(sorted_idx.shape[0]) + .5\n",
    "print(pos.size)\n",
    "sorted_idx.size\n",
    "plt.figure(figsize=(8,8))\n",
    "plt.barh(pos, feature_importance[sorted_idx], align='center', color = 'plum')\n",
    "plt.yticks(pos, X.columns[sorted_idx])\n",
    "plt.xlabel('Relative Importance')\n",
    "plt.title('Variable Importance')\n",
    "plt.show()"
   ]
  },
  {
   "cell_type": "code",
   "execution_count": 84,
   "id": "3fbb343e",
   "metadata": {},
   "outputs": [],
   "source": [
    "param_grid = {\n",
    "    'learning_rate': [0.1, 0.3],\n",
    "    'max_depth': [3, 6, 9],\n",
    "    'n_estimators': [50, 100, 150],\n",
    "    'colsample_bytree': [.3, .5, .8],\n",
    "    'subsample': [.3, .5, .8]\n",
    "}"
   ]
  },
  {
   "cell_type": "code",
   "execution_count": 85,
   "id": "dd4b833c",
   "metadata": {},
   "outputs": [],
   "source": [
    "# %%time\n",
    "# markdown since it takes so long to run\n",
    "# random_search = RandomizedSearchCV(XGBClassifier(random_state=23),\n",
    "#                                    param_grid, n_jobs=-1)\n",
    "# random_search.fit(X_train, y_train.values.ravel(), eval_set=eval_set)\n",
    "# print(random_search.best_estimator_)"
   ]
  },
  {
   "cell_type": "code",
   "execution_count": 86,
   "id": "4af468f3",
   "metadata": {
    "scrolled": false
   },
   "outputs": [
    {
     "name": "stdout",
     "output_type": "stream",
     "text": [
      "[0]\tvalidation_0-logloss:0.66538\tvalidation_1-logloss:0.66559\n",
      "[1]\tvalidation_0-logloss:0.64388\tvalidation_1-logloss:0.64427\n",
      "[2]\tvalidation_0-logloss:0.62618\tvalidation_1-logloss:0.62672\n",
      "[3]\tvalidation_0-logloss:0.61253\tvalidation_1-logloss:0.61321\n",
      "[4]\tvalidation_0-logloss:0.59978\tvalidation_1-logloss:0.60070\n",
      "[5]\tvalidation_0-logloss:0.59022\tvalidation_1-logloss:0.59123\n",
      "[6]\tvalidation_0-logloss:0.58202\tvalidation_1-logloss:0.58315\n",
      "[7]\tvalidation_0-logloss:0.57459\tvalidation_1-logloss:0.57587\n",
      "[8]\tvalidation_0-logloss:0.56889\tvalidation_1-logloss:0.57020\n",
      "[9]\tvalidation_0-logloss:0.56434\tvalidation_1-logloss:0.56565\n",
      "[10]\tvalidation_0-logloss:0.56061\tvalidation_1-logloss:0.56203\n",
      "[11]\tvalidation_0-logloss:0.55746\tvalidation_1-logloss:0.55897\n",
      "[12]\tvalidation_0-logloss:0.55405\tvalidation_1-logloss:0.55570\n",
      "[13]\tvalidation_0-logloss:0.55169\tvalidation_1-logloss:0.55332\n",
      "[14]\tvalidation_0-logloss:0.54987\tvalidation_1-logloss:0.55153\n",
      "[15]\tvalidation_0-logloss:0.54752\tvalidation_1-logloss:0.54923\n",
      "[16]\tvalidation_0-logloss:0.54631\tvalidation_1-logloss:0.54805\n",
      "[17]\tvalidation_0-logloss:0.54522\tvalidation_1-logloss:0.54702\n",
      "[18]\tvalidation_0-logloss:0.54446\tvalidation_1-logloss:0.54638\n",
      "[19]\tvalidation_0-logloss:0.54374\tvalidation_1-logloss:0.54575\n",
      "[20]\tvalidation_0-logloss:0.54230\tvalidation_1-logloss:0.54437\n",
      "[21]\tvalidation_0-logloss:0.54186\tvalidation_1-logloss:0.54407\n",
      "[22]\tvalidation_0-logloss:0.54153\tvalidation_1-logloss:0.54387\n",
      "[23]\tvalidation_0-logloss:0.54128\tvalidation_1-logloss:0.54364\n",
      "[24]\tvalidation_0-logloss:0.54101\tvalidation_1-logloss:0.54335\n",
      "[25]\tvalidation_0-logloss:0.54082\tvalidation_1-logloss:0.54314\n",
      "[26]\tvalidation_0-logloss:0.53978\tvalidation_1-logloss:0.54214\n",
      "[27]\tvalidation_0-logloss:0.53954\tvalidation_1-logloss:0.54186\n",
      "[28]\tvalidation_0-logloss:0.53941\tvalidation_1-logloss:0.54173\n",
      "[29]\tvalidation_0-logloss:0.53932\tvalidation_1-logloss:0.54173\n",
      "[30]\tvalidation_0-logloss:0.53919\tvalidation_1-logloss:0.54161\n",
      "[31]\tvalidation_0-logloss:0.53909\tvalidation_1-logloss:0.54166\n",
      "[32]\tvalidation_0-logloss:0.53900\tvalidation_1-logloss:0.54162\n",
      "[33]\tvalidation_0-logloss:0.53897\tvalidation_1-logloss:0.54161\n",
      "[34]\tvalidation_0-logloss:0.53892\tvalidation_1-logloss:0.54159\n",
      "[35]\tvalidation_0-logloss:0.53887\tvalidation_1-logloss:0.54154\n",
      "[36]\tvalidation_0-logloss:0.53876\tvalidation_1-logloss:0.54152\n",
      "[37]\tvalidation_0-logloss:0.53873\tvalidation_1-logloss:0.54154\n",
      "[38]\tvalidation_0-logloss:0.53868\tvalidation_1-logloss:0.54161\n",
      "[39]\tvalidation_0-logloss:0.53862\tvalidation_1-logloss:0.54156\n",
      "[40]\tvalidation_0-logloss:0.53776\tvalidation_1-logloss:0.54082\n",
      "[41]\tvalidation_0-logloss:0.53767\tvalidation_1-logloss:0.54080\n",
      "[42]\tvalidation_0-logloss:0.53763\tvalidation_1-logloss:0.54069\n",
      "[43]\tvalidation_0-logloss:0.53689\tvalidation_1-logloss:0.53999\n",
      "[44]\tvalidation_0-logloss:0.53678\tvalidation_1-logloss:0.54002\n",
      "[45]\tvalidation_0-logloss:0.53676\tvalidation_1-logloss:0.54003\n",
      "[46]\tvalidation_0-logloss:0.53674\tvalidation_1-logloss:0.54001\n",
      "[47]\tvalidation_0-logloss:0.53671\tvalidation_1-logloss:0.54001\n",
      "[48]\tvalidation_0-logloss:0.53667\tvalidation_1-logloss:0.54003\n",
      "[49]\tvalidation_0-logloss:0.53663\tvalidation_1-logloss:0.54004\n",
      "Classification Report for Training Data\n",
      "              precision    recall  f1-score   support\n",
      "\n",
      "           0       0.76      1.00      0.87     24141\n",
      "           1       0.00      0.00      0.00      7500\n",
      "\n",
      "    accuracy                           0.76     31641\n",
      "   macro avg       0.38      0.50      0.43     31641\n",
      "weighted avg       0.58      0.76      0.66     31641\n",
      "\n",
      "Classification Report for Test Data\n",
      "              precision    recall  f1-score   support\n",
      "\n",
      "           0       0.76      1.00      0.86      6024\n",
      "           1       0.00      0.00      0.00      1887\n",
      "\n",
      "    accuracy                           0.76      7911\n",
      "   macro avg       0.38      0.50      0.43      7911\n",
      "weighted avg       0.58      0.76      0.66      7911\n",
      "\n",
      "F1 Score:  0.0000\n"
     ]
    }
   ],
   "source": [
    "xgbr_cv = XGBClassifier(random_state=23, early_stopping_rounds=20, colsample_bytree=0.3, learning_rate=0.1, max_depth=3, n_estimators=50, subsample=0.3)\n",
    "xgbr_cv.fit(X_train, y_train, eval_set=eval_set)\n",
    "y_pred = xgbr_cv.predict(X_test)\n",
    "\n",
    "#classification report\n",
    "print(\"Classification Report for Training Data\")\n",
    "print(classification_report(y_train, xgbr_cv.predict(X_train), zero_division=0))\n",
    "print(\"Classification Report for Test Data\")\n",
    "print(classification_report(y_test, xgbr_cv.predict(X_test), zero_division=0))\n",
    "#calculate F1 score\n",
    "print('F1 Score: ', f\"{f1_score(y_test, y_pred):,.4f}\")"
   ]
  },
  {
   "cell_type": "code",
   "execution_count": 87,
   "id": "b831af74",
   "metadata": {},
   "outputs": [
    {
     "data": {
      "text/plain": [
       "''"
      ]
     },
     "execution_count": 87,
     "metadata": {},
     "output_type": "execute_result"
    },
    {
     "data": {
      "image/png": "[encoded data removed]",
      "text/plain": [
       "<Figure size 576x360 with 2 Axes>"
      ]
     },
     "metadata": {},
     "output_type": "display_data"
    }
   ],
   "source": [
    "data = confusion_matrix(y_test, y_pred)\n",
    "df_cm = pd.DataFrame(data, columns=np.unique(y_test), index = np.unique(y_test))\n",
    "df_cm.index.name = 'Actual'\n",
    "df_cm.columns.name = 'Predicted'\n",
    "plt.figure(figsize = (8,5))\n",
    "sns.set(font_scale=1.4)#for label size\n",
    "sns.heatmap(df_cm, cmap=\"Blues\", annot=True,annot_kws={\"size\": 14}, fmt=\",.0f\")# font size\n",
    ";"
   ]
  },
  {
   "cell_type": "code",
   "execution_count": 88,
   "id": "4b525966",
   "metadata": {},
   "outputs": [
    {
     "name": "stdout",
     "output_type": "stream",
     "text": [
      "9\n"
     ]
    },
    {
     "data": {
      "image/png": "[encoded data removed]",
      "text/plain": [
       "<Figure size 576x576 with 1 Axes>"
      ]
     },
     "metadata": {},
     "output_type": "display_data"
    }
   ],
   "source": [
    "feature_importance = xgbr_cv.feature_importances_\n",
    "# make importances relative to max importance\n",
    "feature_importance = 100.0 * (feature_importance / feature_importance.max())[:30]\n",
    "sorted_idx = np.argsort(feature_importance)[:20]\n",
    "\n",
    "pos = np.arange(sorted_idx.shape[0]) + .5\n",
    "print(pos.size)\n",
    "sorted_idx.size\n",
    "plt.figure(figsize=(8,8))\n",
    "plt.barh(pos, feature_importance[sorted_idx], align='center', color = 'plum')\n",
    "plt.yticks(pos, X.columns[sorted_idx])\n",
    "plt.xlabel('Relative Importance')\n",
    "plt.title('Variable Importance')\n",
    "plt.show()"
   ]
  },
  {
   "cell_type": "code",
   "execution_count": null,
   "id": "c6bc6c4a",
   "metadata": {},
   "outputs": [],
   "source": []
  },
  {
   "cell_type": "code",
   "execution_count": null,
   "id": "7dd2d0d9",
   "metadata": {},
   "outputs": [],
   "source": []
  },
  {
   "cell_type": "code",
   "execution_count": null,
   "id": "c375cd30",
   "metadata": {},
   "outputs": [],
   "source": []
  }
 ],
 "metadata": {
  "kernelspec": {
   "display_name": "Python 3 (ipykernel)",
   "language": "python",
   "name": "python3"
  },
  "language_info": {
   "codemirror_mode": {
    "name": "ipython",
    "version": 3
   },
   "file_extension": ".py",
   "mimetype": "text/x-python",
   "name": "python",
   "nbconvert_exporter": "python",
   "pygments_lexer": "ipython3",
   "version": "3.9.12"
  }
 },
 "nbformat": 4,
 "nbformat_minor": 5
}
